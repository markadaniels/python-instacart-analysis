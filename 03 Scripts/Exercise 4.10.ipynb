{
 "cells": [
  {
   "cell_type": "markdown",
   "metadata": {},
   "source": [
    "# 4.10 Coding Etiquette & Excel Reporting"
   ]
  },
  {
   "cell_type": "markdown",
   "metadata": {},
   "source": [
    "### This script contains the following points:\n",
    "#### 1. Exercise Q1a. Import libraries and final data set from Exercise 4.9\n",
    "#### 2. Exercise Q1b. Check the dimensions of the imported dataframe\n",
    "#### 3. Exercise Q2. Address any Personally Identifiable Information (PII) data\n",
    "#### 4. Exercise Q3a. US region column\n",
    "#### 5. Exercise Q3b. Spending habits between U.S. regions\n",
    "#### 6. Exercise Q4. Exclusion flag for low-activity customers\n",
    "#### 7. Exercise Q5. Customer profiles\n",
    "#### 8. Exercise Q5b. Sampling to avoid memory issues\n",
    "#### 9. Exercise Q5c. Bar chart: hour of the day / day of the week impact on profiles (sample)\n",
    "#### 10. Exercise Q6. Histogram: profile distribution\n",
    "#### 11. Exercise Q7. Aggregate the max, mean, and min on a customer-profile (frequency & expenditure)\n",
    "#### 12. Exercise Q8. Compare customer profiles with regions and departments\n",
    "#### 13. Exercise Q9. Export visualizations in relevant project folder"
   ]
  },
  {
   "cell_type": "markdown",
   "metadata": {},
   "source": [
    "#### 1. Exercise Q1a. Import libraries and final data set from Exercise 4.9"
   ]
  },
  {
   "cell_type": "code",
   "execution_count": 1,
   "metadata": {},
   "outputs": [],
   "source": [
    "# Import libraries\n",
    "\n",
    "import pandas as pd\n",
    "import numpy as np\n",
    "import os\n",
    "import matplotlib.pyplot as plt\n",
    "import seaborn as sns\n",
    "import scipy"
   ]
  },
  {
   "cell_type": "code",
   "execution_count": 2,
   "metadata": {},
   "outputs": [],
   "source": [
    "# Path to main project folder\n",
    "\n",
    "path = r'C:\\Users\\Mark\\_Instacart Basket Analysis'"
   ]
  },
  {
   "cell_type": "code",
   "execution_count": 3,
   "metadata": {},
   "outputs": [],
   "source": [
    "# Retrieve the orders_products_customers_merged.pkl file from Exercise 4.9\n",
    "# Assign it to df_poc (dataframe products, orders, customers)\n",
    "\n",
    "df_poc = pd.read_pickle(os.path.join(path, '03 Scripts', 'Prepared Data', 'orders_products_customers_merged.pkl'))"
   ]
  },
  {
   "cell_type": "code",
   "execution_count": 4,
   "metadata": {},
   "outputs": [],
   "source": [
    "# Retrieve the customers_clean.pkl file\n",
    "\n",
    "df_customers = pd.read_pickle(os.path.join(path, '03 Scripts', 'Prepared Data', 'customers_clean.pkl'))"
   ]
  },
  {
   "cell_type": "markdown",
   "metadata": {},
   "source": [
    "#### 2. Exercise Q1b. Check the dimensions of the imported dataframe"
   ]
  },
  {
   "cell_type": "code",
   "execution_count": 5,
   "metadata": {},
   "outputs": [
    {
     "data": {
      "text/html": [
       "<div>\n",
       "<style scoped>\n",
       "    .dataframe tbody tr th:only-of-type {\n",
       "        vertical-align: middle;\n",
       "    }\n",
       "\n",
       "    .dataframe tbody tr th {\n",
       "        vertical-align: top;\n",
       "    }\n",
       "\n",
       "    .dataframe thead th {\n",
       "        text-align: right;\n",
       "    }\n",
       "</style>\n",
       "<table border=\"1\" class=\"dataframe\">\n",
       "  <thead>\n",
       "    <tr style=\"text-align: right;\">\n",
       "      <th></th>\n",
       "      <th>order_id</th>\n",
       "      <th>user_id</th>\n",
       "      <th>order_number</th>\n",
       "      <th>orders_day_of_the_week</th>\n",
       "      <th>order_hour_of_day</th>\n",
       "      <th>days_since_prior_order</th>\n",
       "      <th>product_id</th>\n",
       "      <th>add_to_cart_order</th>\n",
       "      <th>reordered</th>\n",
       "      <th>product_name</th>\n",
       "      <th>...</th>\n",
       "      <th>frequency_flag</th>\n",
       "      <th>first_name</th>\n",
       "      <th>last_name</th>\n",
       "      <th>gender</th>\n",
       "      <th>state</th>\n",
       "      <th>age</th>\n",
       "      <th>date_joined</th>\n",
       "      <th>number_of_dependants</th>\n",
       "      <th>family_status</th>\n",
       "      <th>income</th>\n",
       "    </tr>\n",
       "  </thead>\n",
       "  <tbody>\n",
       "    <tr>\n",
       "      <th>0</th>\n",
       "      <td>2398795</td>\n",
       "      <td>1</td>\n",
       "      <td>2</td>\n",
       "      <td>3</td>\n",
       "      <td>7</td>\n",
       "      <td>15.0</td>\n",
       "      <td>196</td>\n",
       "      <td>1</td>\n",
       "      <td>1</td>\n",
       "      <td>Soda</td>\n",
       "      <td>...</td>\n",
       "      <td>Regular customer</td>\n",
       "      <td>Linda</td>\n",
       "      <td>Nguyen</td>\n",
       "      <td>Female</td>\n",
       "      <td>Alabama</td>\n",
       "      <td>31</td>\n",
       "      <td>2/17/2019</td>\n",
       "      <td>3</td>\n",
       "      <td>married</td>\n",
       "      <td>40423</td>\n",
       "    </tr>\n",
       "    <tr>\n",
       "      <th>1</th>\n",
       "      <td>473747</td>\n",
       "      <td>1</td>\n",
       "      <td>3</td>\n",
       "      <td>3</td>\n",
       "      <td>12</td>\n",
       "      <td>21.0</td>\n",
       "      <td>196</td>\n",
       "      <td>1</td>\n",
       "      <td>1</td>\n",
       "      <td>Soda</td>\n",
       "      <td>...</td>\n",
       "      <td>Non-frequent customer</td>\n",
       "      <td>Linda</td>\n",
       "      <td>Nguyen</td>\n",
       "      <td>Female</td>\n",
       "      <td>Alabama</td>\n",
       "      <td>31</td>\n",
       "      <td>2/17/2019</td>\n",
       "      <td>3</td>\n",
       "      <td>married</td>\n",
       "      <td>40423</td>\n",
       "    </tr>\n",
       "    <tr>\n",
       "      <th>2</th>\n",
       "      <td>2254736</td>\n",
       "      <td>1</td>\n",
       "      <td>4</td>\n",
       "      <td>4</td>\n",
       "      <td>7</td>\n",
       "      <td>29.0</td>\n",
       "      <td>196</td>\n",
       "      <td>1</td>\n",
       "      <td>1</td>\n",
       "      <td>Soda</td>\n",
       "      <td>...</td>\n",
       "      <td>Non-frequent customer</td>\n",
       "      <td>Linda</td>\n",
       "      <td>Nguyen</td>\n",
       "      <td>Female</td>\n",
       "      <td>Alabama</td>\n",
       "      <td>31</td>\n",
       "      <td>2/17/2019</td>\n",
       "      <td>3</td>\n",
       "      <td>married</td>\n",
       "      <td>40423</td>\n",
       "    </tr>\n",
       "    <tr>\n",
       "      <th>3</th>\n",
       "      <td>431534</td>\n",
       "      <td>1</td>\n",
       "      <td>5</td>\n",
       "      <td>4</td>\n",
       "      <td>15</td>\n",
       "      <td>28.0</td>\n",
       "      <td>196</td>\n",
       "      <td>1</td>\n",
       "      <td>1</td>\n",
       "      <td>Soda</td>\n",
       "      <td>...</td>\n",
       "      <td>Non-frequent customer</td>\n",
       "      <td>Linda</td>\n",
       "      <td>Nguyen</td>\n",
       "      <td>Female</td>\n",
       "      <td>Alabama</td>\n",
       "      <td>31</td>\n",
       "      <td>2/17/2019</td>\n",
       "      <td>3</td>\n",
       "      <td>married</td>\n",
       "      <td>40423</td>\n",
       "    </tr>\n",
       "    <tr>\n",
       "      <th>4</th>\n",
       "      <td>3367565</td>\n",
       "      <td>1</td>\n",
       "      <td>6</td>\n",
       "      <td>2</td>\n",
       "      <td>7</td>\n",
       "      <td>19.0</td>\n",
       "      <td>196</td>\n",
       "      <td>1</td>\n",
       "      <td>1</td>\n",
       "      <td>Soda</td>\n",
       "      <td>...</td>\n",
       "      <td>Regular customer</td>\n",
       "      <td>Linda</td>\n",
       "      <td>Nguyen</td>\n",
       "      <td>Female</td>\n",
       "      <td>Alabama</td>\n",
       "      <td>31</td>\n",
       "      <td>2/17/2019</td>\n",
       "      <td>3</td>\n",
       "      <td>married</td>\n",
       "      <td>40423</td>\n",
       "    </tr>\n",
       "  </tbody>\n",
       "</table>\n",
       "<p>5 rows × 32 columns</p>\n",
       "</div>"
      ],
      "text/plain": [
       "   order_id  user_id  order_number  orders_day_of_the_week  order_hour_of_day  \\\n",
       "0   2398795        1             2                       3                  7   \n",
       "1    473747        1             3                       3                 12   \n",
       "2   2254736        1             4                       4                  7   \n",
       "3    431534        1             5                       4                 15   \n",
       "4   3367565        1             6                       2                  7   \n",
       "\n",
       "   days_since_prior_order  product_id  add_to_cart_order  reordered  \\\n",
       "0                    15.0         196                  1          1   \n",
       "1                    21.0         196                  1          1   \n",
       "2                    29.0         196                  1          1   \n",
       "3                    28.0         196                  1          1   \n",
       "4                    19.0         196                  1          1   \n",
       "\n",
       "  product_name  ...         frequency_flag  first_name  last_name  gender  \\\n",
       "0         Soda  ...       Regular customer       Linda     Nguyen  Female   \n",
       "1         Soda  ...  Non-frequent customer       Linda     Nguyen  Female   \n",
       "2         Soda  ...  Non-frequent customer       Linda     Nguyen  Female   \n",
       "3         Soda  ...  Non-frequent customer       Linda     Nguyen  Female   \n",
       "4         Soda  ...       Regular customer       Linda     Nguyen  Female   \n",
       "\n",
       "     state age date_joined  number_of_dependants family_status  income  \n",
       "0  Alabama  31   2/17/2019                     3       married   40423  \n",
       "1  Alabama  31   2/17/2019                     3       married   40423  \n",
       "2  Alabama  31   2/17/2019                     3       married   40423  \n",
       "3  Alabama  31   2/17/2019                     3       married   40423  \n",
       "4  Alabama  31   2/17/2019                     3       married   40423  \n",
       "\n",
       "[5 rows x 32 columns]"
      ]
     },
     "execution_count": 5,
     "metadata": {},
     "output_type": "execute_result"
    }
   ],
   "source": [
    "# Ensure nothing looks out of place with the imported dataframe\n",
    "\n",
    "df_poc.head()"
   ]
  },
  {
   "cell_type": "code",
   "execution_count": 6,
   "metadata": {},
   "outputs": [
    {
     "data": {
      "text/html": [
       "<div>\n",
       "<style scoped>\n",
       "    .dataframe tbody tr th:only-of-type {\n",
       "        vertical-align: middle;\n",
       "    }\n",
       "\n",
       "    .dataframe tbody tr th {\n",
       "        vertical-align: top;\n",
       "    }\n",
       "\n",
       "    .dataframe thead th {\n",
       "        text-align: right;\n",
       "    }\n",
       "</style>\n",
       "<table border=\"1\" class=\"dataframe\">\n",
       "  <thead>\n",
       "    <tr style=\"text-align: right;\">\n",
       "      <th></th>\n",
       "      <th>order_id</th>\n",
       "      <th>user_id</th>\n",
       "      <th>order_number</th>\n",
       "      <th>orders_day_of_the_week</th>\n",
       "      <th>order_hour_of_day</th>\n",
       "      <th>days_since_prior_order</th>\n",
       "      <th>product_id</th>\n",
       "      <th>add_to_cart_order</th>\n",
       "      <th>reordered</th>\n",
       "      <th>product_name</th>\n",
       "      <th>...</th>\n",
       "      <th>frequency_flag</th>\n",
       "      <th>first_name</th>\n",
       "      <th>last_name</th>\n",
       "      <th>gender</th>\n",
       "      <th>state</th>\n",
       "      <th>age</th>\n",
       "      <th>date_joined</th>\n",
       "      <th>number_of_dependants</th>\n",
       "      <th>family_status</th>\n",
       "      <th>income</th>\n",
       "    </tr>\n",
       "  </thead>\n",
       "  <tbody>\n",
       "    <tr>\n",
       "      <th>30328758</th>\n",
       "      <td>467253</td>\n",
       "      <td>106143</td>\n",
       "      <td>25</td>\n",
       "      <td>6</td>\n",
       "      <td>16</td>\n",
       "      <td>7.0</td>\n",
       "      <td>19675</td>\n",
       "      <td>1</td>\n",
       "      <td>1</td>\n",
       "      <td>Organic Raspberry Black Tea</td>\n",
       "      <td>...</td>\n",
       "      <td>Frequent customer</td>\n",
       "      <td>Gerald</td>\n",
       "      <td>Yates</td>\n",
       "      <td>Male</td>\n",
       "      <td>Hawaii</td>\n",
       "      <td>25</td>\n",
       "      <td>5/26/2017</td>\n",
       "      <td>0</td>\n",
       "      <td>single</td>\n",
       "      <td>53755</td>\n",
       "    </tr>\n",
       "    <tr>\n",
       "      <th>30328759</th>\n",
       "      <td>156685</td>\n",
       "      <td>106143</td>\n",
       "      <td>26</td>\n",
       "      <td>4</td>\n",
       "      <td>23</td>\n",
       "      <td>5.0</td>\n",
       "      <td>19675</td>\n",
       "      <td>1</td>\n",
       "      <td>1</td>\n",
       "      <td>Organic Raspberry Black Tea</td>\n",
       "      <td>...</td>\n",
       "      <td>Frequent customer</td>\n",
       "      <td>Gerald</td>\n",
       "      <td>Yates</td>\n",
       "      <td>Male</td>\n",
       "      <td>Hawaii</td>\n",
       "      <td>25</td>\n",
       "      <td>5/26/2017</td>\n",
       "      <td>0</td>\n",
       "      <td>single</td>\n",
       "      <td>53755</td>\n",
       "    </tr>\n",
       "    <tr>\n",
       "      <th>30328760</th>\n",
       "      <td>1561557</td>\n",
       "      <td>66343</td>\n",
       "      <td>2</td>\n",
       "      <td>1</td>\n",
       "      <td>11</td>\n",
       "      <td>30.0</td>\n",
       "      <td>47210</td>\n",
       "      <td>1</td>\n",
       "      <td>1</td>\n",
       "      <td>Fresh Farmed Tilapia Fillet</td>\n",
       "      <td>...</td>\n",
       "      <td>Non-frequent customer</td>\n",
       "      <td>Jacqueline</td>\n",
       "      <td>Arroyo</td>\n",
       "      <td>Female</td>\n",
       "      <td>Tennessee</td>\n",
       "      <td>22</td>\n",
       "      <td>9/12/2017</td>\n",
       "      <td>3</td>\n",
       "      <td>married</td>\n",
       "      <td>46151</td>\n",
       "    </tr>\n",
       "    <tr>\n",
       "      <th>30328761</th>\n",
       "      <td>276317</td>\n",
       "      <td>66343</td>\n",
       "      <td>3</td>\n",
       "      <td>6</td>\n",
       "      <td>15</td>\n",
       "      <td>19.0</td>\n",
       "      <td>47210</td>\n",
       "      <td>1</td>\n",
       "      <td>1</td>\n",
       "      <td>Fresh Farmed Tilapia Fillet</td>\n",
       "      <td>...</td>\n",
       "      <td>Regular customer</td>\n",
       "      <td>Jacqueline</td>\n",
       "      <td>Arroyo</td>\n",
       "      <td>Female</td>\n",
       "      <td>Tennessee</td>\n",
       "      <td>22</td>\n",
       "      <td>9/12/2017</td>\n",
       "      <td>3</td>\n",
       "      <td>married</td>\n",
       "      <td>46151</td>\n",
       "    </tr>\n",
       "    <tr>\n",
       "      <th>30328762</th>\n",
       "      <td>2922475</td>\n",
       "      <td>66343</td>\n",
       "      <td>4</td>\n",
       "      <td>1</td>\n",
       "      <td>12</td>\n",
       "      <td>30.0</td>\n",
       "      <td>47210</td>\n",
       "      <td>1</td>\n",
       "      <td>1</td>\n",
       "      <td>Fresh Farmed Tilapia Fillet</td>\n",
       "      <td>...</td>\n",
       "      <td>Non-frequent customer</td>\n",
       "      <td>Jacqueline</td>\n",
       "      <td>Arroyo</td>\n",
       "      <td>Female</td>\n",
       "      <td>Tennessee</td>\n",
       "      <td>22</td>\n",
       "      <td>9/12/2017</td>\n",
       "      <td>3</td>\n",
       "      <td>married</td>\n",
       "      <td>46151</td>\n",
       "    </tr>\n",
       "  </tbody>\n",
       "</table>\n",
       "<p>5 rows × 32 columns</p>\n",
       "</div>"
      ],
      "text/plain": [
       "          order_id  user_id  order_number  orders_day_of_the_week  \\\n",
       "30328758    467253   106143            25                       6   \n",
       "30328759    156685   106143            26                       4   \n",
       "30328760   1561557    66343             2                       1   \n",
       "30328761    276317    66343             3                       6   \n",
       "30328762   2922475    66343             4                       1   \n",
       "\n",
       "          order_hour_of_day  days_since_prior_order  product_id  \\\n",
       "30328758                 16                     7.0       19675   \n",
       "30328759                 23                     5.0       19675   \n",
       "30328760                 11                    30.0       47210   \n",
       "30328761                 15                    19.0       47210   \n",
       "30328762                 12                    30.0       47210   \n",
       "\n",
       "          add_to_cart_order  reordered                 product_name  ...  \\\n",
       "30328758                  1          1  Organic Raspberry Black Tea  ...   \n",
       "30328759                  1          1  Organic Raspberry Black Tea  ...   \n",
       "30328760                  1          1  Fresh Farmed Tilapia Fillet  ...   \n",
       "30328761                  1          1  Fresh Farmed Tilapia Fillet  ...   \n",
       "30328762                  1          1  Fresh Farmed Tilapia Fillet  ...   \n",
       "\n",
       "                 frequency_flag  first_name  last_name  gender      state age  \\\n",
       "30328758      Frequent customer      Gerald      Yates    Male     Hawaii  25   \n",
       "30328759      Frequent customer      Gerald      Yates    Male     Hawaii  25   \n",
       "30328760  Non-frequent customer  Jacqueline     Arroyo  Female  Tennessee  22   \n",
       "30328761       Regular customer  Jacqueline     Arroyo  Female  Tennessee  22   \n",
       "30328762  Non-frequent customer  Jacqueline     Arroyo  Female  Tennessee  22   \n",
       "\n",
       "         date_joined  number_of_dependants family_status  income  \n",
       "30328758   5/26/2017                     0        single   53755  \n",
       "30328759   5/26/2017                     0        single   53755  \n",
       "30328760   9/12/2017                     3       married   46151  \n",
       "30328761   9/12/2017                     3       married   46151  \n",
       "30328762   9/12/2017                     3       married   46151  \n",
       "\n",
       "[5 rows x 32 columns]"
      ]
     },
     "execution_count": 6,
     "metadata": {},
     "output_type": "execute_result"
    }
   ],
   "source": [
    "# Ensure nothing looks out of place with the imported dataframe\n",
    "\n",
    "df_poc.tail()"
   ]
  },
  {
   "cell_type": "code",
   "execution_count": 7,
   "metadata": {},
   "outputs": [
    {
     "data": {
      "text/plain": [
       "(30328763, 32)"
      ]
     },
     "execution_count": 7,
     "metadata": {},
     "output_type": "execute_result"
    }
   ],
   "source": [
    "# See if the data set is large, small, wide, or long\n",
    "\n",
    "df_poc.shape"
   ]
  },
  {
   "cell_type": "code",
   "execution_count": 8,
   "metadata": {},
   "outputs": [
    {
     "data": {
      "text/plain": [
       "Index(['order_id', 'user_id', 'order_number', 'orders_day_of_the_week',\n",
       "       'order_hour_of_day', 'days_since_prior_order', 'product_id',\n",
       "       'add_to_cart_order', 'reordered', 'product_name', 'aisle_id',\n",
       "       'department_id', 'prices', 'match', 'price_range', 'busiest day',\n",
       "       'busiest_period_of_day', 'max_order', 'loyalty_flag', 'mean_prices',\n",
       "       'spend_flag', 'mean_days_since_prior', 'frequency_flag', 'first_name',\n",
       "       'last_name', 'gender', 'state', 'age', 'date_joined',\n",
       "       'number_of_dependants', 'family_status', 'income'],\n",
       "      dtype='object')"
      ]
     },
     "execution_count": 8,
     "metadata": {},
     "output_type": "execute_result"
    }
   ],
   "source": [
    "# Review the columns\n",
    "\n",
    "df_poc.columns"
   ]
  },
  {
   "cell_type": "code",
   "execution_count": 9,
   "metadata": {},
   "outputs": [
    {
     "name": "stdout",
     "output_type": "stream",
     "text": [
      "<class 'pandas.core.frame.DataFrame'>\n",
      "Int64Index: 30328763 entries, 0 to 30328762\n",
      "Data columns (total 32 columns):\n",
      " #   Column                  Dtype   \n",
      "---  ------                  -----   \n",
      " 0   order_id                int64   \n",
      " 1   user_id                 int64   \n",
      " 2   order_number            int64   \n",
      " 3   orders_day_of_the_week  int64   \n",
      " 4   order_hour_of_day       int64   \n",
      " 5   days_since_prior_order  float64 \n",
      " 6   product_id              int64   \n",
      " 7   add_to_cart_order       int64   \n",
      " 8   reordered               int64   \n",
      " 9   product_name            object  \n",
      " 10  aisle_id                int64   \n",
      " 11  department_id           int64   \n",
      " 12  prices                  float64 \n",
      " 13  match                   category\n",
      " 14  price_range             object  \n",
      " 15  busiest day             object  \n",
      " 16  busiest_period_of_day   object  \n",
      " 17  max_order               int64   \n",
      " 18  loyalty_flag            object  \n",
      " 19  mean_prices             float64 \n",
      " 20  spend_flag              object  \n",
      " 21  mean_days_since_prior   float64 \n",
      " 22  frequency_flag          object  \n",
      " 23  first_name              object  \n",
      " 24  last_name               object  \n",
      " 25  gender                  object  \n",
      " 26  state                   object  \n",
      " 27  age                     int64   \n",
      " 28  date_joined             object  \n",
      " 29  number_of_dependants    int64   \n",
      " 30  family_status           object  \n",
      " 31  income                  int64   \n",
      "dtypes: category(1), float64(4), int64(14), object(13)\n",
      "memory usage: 7.3+ GB\n"
     ]
    }
   ],
   "source": [
    "# Review the dataframe info: index dtype and columns, non-null values and memory usage\n",
    "\n",
    "df_poc.info(verbose=True)"
   ]
  },
  {
   "cell_type": "markdown",
   "metadata": {},
   "source": [
    "#### 3. Exercise Q2. Address any Personally Identifiable Information (PII) data"
   ]
  },
  {
   "cell_type": "code",
   "execution_count": 10,
   "metadata": {},
   "outputs": [],
   "source": [
    "# Sensitive PII data: names, email addresses, physical addresses, and phone numbers\n",
    "# This dataframe only has \"first_name\" and \"last_name\" as PII data\n",
    "# Drop PII columns\n",
    "\n",
    "df_poc.drop(columns=['first_name', 'last_name'], inplace = True)"
   ]
  },
  {
   "cell_type": "code",
   "execution_count": 11,
   "metadata": {},
   "outputs": [
    {
     "data": {
      "text/plain": [
       "Index(['order_id', 'user_id', 'order_number', 'orders_day_of_the_week',\n",
       "       'order_hour_of_day', 'days_since_prior_order', 'product_id',\n",
       "       'add_to_cart_order', 'reordered', 'product_name', 'aisle_id',\n",
       "       'department_id', 'prices', 'match', 'price_range', 'busiest day',\n",
       "       'busiest_period_of_day', 'max_order', 'loyalty_flag', 'mean_prices',\n",
       "       'spend_flag', 'mean_days_since_prior', 'frequency_flag', 'gender',\n",
       "       'state', 'age', 'date_joined', 'number_of_dependants', 'family_status',\n",
       "       'income'],\n",
       "      dtype='object')"
      ]
     },
     "execution_count": 11,
     "metadata": {},
     "output_type": "execute_result"
    }
   ],
   "source": [
    "# Review df_poc columns\n",
    "\n",
    "df_poc.columns"
   ]
  },
  {
   "cell_type": "markdown",
   "metadata": {},
   "source": [
    "#### 4. Exercise Q3a. US region column"
   ]
  },
  {
   "cell_type": "code",
   "execution_count": 12,
   "metadata": {},
   "outputs": [
    {
     "data": {
      "text/plain": [
       "Index(['user_id', 'first_name', 'last_name', 'gender', 'state', 'age',\n",
       "       'date_joined', 'number_of_dependants', 'family_status', 'income'],\n",
       "      dtype='object')"
      ]
     },
     "execution_count": 12,
     "metadata": {},
     "output_type": "execute_result"
    }
   ],
   "source": [
    "# Review the customer dataframe columns\n",
    "\n",
    "df_customers.columns"
   ]
  },
  {
   "cell_type": "code",
   "execution_count": 13,
   "metadata": {},
   "outputs": [],
   "source": [
    "# Retrieve a list of unique states\n",
    "\n",
    "states_customers = df_customers['state'].unique()"
   ]
  },
  {
   "cell_type": "code",
   "execution_count": 14,
   "metadata": {},
   "outputs": [],
   "source": [
    "# Create a regional segmentation of the data\n",
    "# Create a \"region\" list based on the \"state\" column\n",
    "\n",
    "# Regional lists of states\n",
    "\n",
    "states_northeast = ['Maine', 'New Hampshire', 'Vermont', 'Massachusetts', 'Rhode Island', 'Connecticut', 'New York', 'Pennsylvania', 'New Jersey']\n",
    "states_midwest = ['Wisconsin', 'Michigan', 'Illinois', 'Indiana', 'Ohio', 'North Dakota', 'South Dakota', 'Nebraska', 'Kansas', 'Minnesota', 'Iowa', 'Missouri']\n",
    "states_south = ['Delaware', 'Maryland', 'District of Columbia', 'Virginia', 'West Virginia', 'North Carolina', 'South Carolina', 'Georgia', 'Florida', 'Kentucky', 'Tennessee', 'Mississippi', 'Alabama', 'Oklahoma', 'Texas', 'Arkansas', 'Louisiana']\n",
    "states_west = ['Idaho', 'Montana', 'Wyoming', 'Nevada', 'Utah', 'Colorado', 'Arizona', 'New Mexico', 'Alaska', 'Washington', 'Oregon', 'California', 'Hawaii']\n",
    "      \n",
    "# Empty list to hold each state and its corresponding region\n",
    "\n",
    "region = []\n",
    "\n",
    "# Append matching state/region to the region list\n",
    "# If a state in the \"states_customers\" dataframe is found in any of the regional lists of states, \n",
    "# (states_northeast, states_midwest, states_south, states_west) append it with the applicable region\n",
    "\n",
    "for usa_state in states_customers: \n",
    "    if usa_state in states_northeast: region.append([usa_state, 'Northeast'])\n",
    "    elif usa_state in states_midwest: region.append([usa_state, 'Midwest'])\n",
    "    elif usa_state in states_south: region.append([usa_state, 'South'])\n",
    "    elif usa_state in states_west: region.append([usa_state, 'West'])\n"
   ]
  },
  {
   "cell_type": "code",
   "execution_count": 15,
   "metadata": {},
   "outputs": [],
   "source": [
    "# Turn the region list into a dataframe\n",
    "\n",
    "df_state_region = pd.DataFrame(region, columns=['state', 'region']).sort_values(['region'], ascending = True)"
   ]
  },
  {
   "cell_type": "code",
   "execution_count": 16,
   "metadata": {},
   "outputs": [
    {
     "data": {
      "text/html": [
       "<div>\n",
       "<style scoped>\n",
       "    .dataframe tbody tr th:only-of-type {\n",
       "        vertical-align: middle;\n",
       "    }\n",
       "\n",
       "    .dataframe tbody tr th {\n",
       "        vertical-align: top;\n",
       "    }\n",
       "\n",
       "    .dataframe thead th {\n",
       "        text-align: right;\n",
       "    }\n",
       "</style>\n",
       "<table border=\"1\" class=\"dataframe\">\n",
       "  <thead>\n",
       "    <tr style=\"text-align: right;\">\n",
       "      <th></th>\n",
       "      <th>state</th>\n",
       "      <th>region</th>\n",
       "    </tr>\n",
       "  </thead>\n",
       "  <tbody>\n",
       "    <tr>\n",
       "      <th>0</th>\n",
       "      <td>Missouri</td>\n",
       "      <td>Midwest</td>\n",
       "    </tr>\n",
       "    <tr>\n",
       "      <th>48</th>\n",
       "      <td>Illinois</td>\n",
       "      <td>Midwest</td>\n",
       "    </tr>\n",
       "    <tr>\n",
       "      <th>47</th>\n",
       "      <td>Minnesota</td>\n",
       "      <td>Midwest</td>\n",
       "    </tr>\n",
       "    <tr>\n",
       "      <th>3</th>\n",
       "      <td>Iowa</td>\n",
       "      <td>Midwest</td>\n",
       "    </tr>\n",
       "    <tr>\n",
       "      <th>46</th>\n",
       "      <td>South Dakota</td>\n",
       "      <td>Midwest</td>\n",
       "    </tr>\n",
       "    <tr>\n",
       "      <th>45</th>\n",
       "      <td>Kansas</td>\n",
       "      <td>Midwest</td>\n",
       "    </tr>\n",
       "    <tr>\n",
       "      <th>23</th>\n",
       "      <td>Indiana</td>\n",
       "      <td>Midwest</td>\n",
       "    </tr>\n",
       "    <tr>\n",
       "      <th>43</th>\n",
       "      <td>Michigan</td>\n",
       "      <td>Midwest</td>\n",
       "    </tr>\n",
       "    <tr>\n",
       "      <th>11</th>\n",
       "      <td>Nebraska</td>\n",
       "      <td>Midwest</td>\n",
       "    </tr>\n",
       "    <tr>\n",
       "      <th>28</th>\n",
       "      <td>Ohio</td>\n",
       "      <td>Midwest</td>\n",
       "    </tr>\n",
       "    <tr>\n",
       "      <th>16</th>\n",
       "      <td>Wisconsin</td>\n",
       "      <td>Midwest</td>\n",
       "    </tr>\n",
       "    <tr>\n",
       "      <th>15</th>\n",
       "      <td>North Dakota</td>\n",
       "      <td>Midwest</td>\n",
       "    </tr>\n",
       "    <tr>\n",
       "      <th>29</th>\n",
       "      <td>Connecticut</td>\n",
       "      <td>Northeast</td>\n",
       "    </tr>\n",
       "    <tr>\n",
       "      <th>20</th>\n",
       "      <td>Maine</td>\n",
       "      <td>Northeast</td>\n",
       "    </tr>\n",
       "    <tr>\n",
       "      <th>33</th>\n",
       "      <td>New York</td>\n",
       "      <td>Northeast</td>\n",
       "    </tr>\n",
       "    <tr>\n",
       "      <th>18</th>\n",
       "      <td>Vermont</td>\n",
       "      <td>Northeast</td>\n",
       "    </tr>\n",
       "    <tr>\n",
       "      <th>27</th>\n",
       "      <td>Pennsylvania</td>\n",
       "      <td>Northeast</td>\n",
       "    </tr>\n",
       "    <tr>\n",
       "      <th>37</th>\n",
       "      <td>New Hampshire</td>\n",
       "      <td>Northeast</td>\n",
       "    </tr>\n",
       "    <tr>\n",
       "      <th>41</th>\n",
       "      <td>Massachusetts</td>\n",
       "      <td>Northeast</td>\n",
       "    </tr>\n",
       "    <tr>\n",
       "      <th>42</th>\n",
       "      <td>Rhode Island</td>\n",
       "      <td>Northeast</td>\n",
       "    </tr>\n",
       "    <tr>\n",
       "      <th>44</th>\n",
       "      <td>New Jersey</td>\n",
       "      <td>Northeast</td>\n",
       "    </tr>\n",
       "    <tr>\n",
       "      <th>34</th>\n",
       "      <td>Mississippi</td>\n",
       "      <td>South</td>\n",
       "    </tr>\n",
       "    <tr>\n",
       "      <th>40</th>\n",
       "      <td>Alabama</td>\n",
       "      <td>South</td>\n",
       "    </tr>\n",
       "    <tr>\n",
       "      <th>31</th>\n",
       "      <td>Louisiana</td>\n",
       "      <td>South</td>\n",
       "    </tr>\n",
       "    <tr>\n",
       "      <th>35</th>\n",
       "      <td>Oklahoma</td>\n",
       "      <td>South</td>\n",
       "    </tr>\n",
       "    <tr>\n",
       "      <th>39</th>\n",
       "      <td>District of Columbia</td>\n",
       "      <td>South</td>\n",
       "    </tr>\n",
       "    <tr>\n",
       "      <th>25</th>\n",
       "      <td>Florida</td>\n",
       "      <td>South</td>\n",
       "    </tr>\n",
       "    <tr>\n",
       "      <th>49</th>\n",
       "      <td>Tennessee</td>\n",
       "      <td>South</td>\n",
       "    </tr>\n",
       "    <tr>\n",
       "      <th>4</th>\n",
       "      <td>Maryland</td>\n",
       "      <td>South</td>\n",
       "    </tr>\n",
       "    <tr>\n",
       "      <th>5</th>\n",
       "      <td>Kentucky</td>\n",
       "      <td>South</td>\n",
       "    </tr>\n",
       "    <tr>\n",
       "      <th>7</th>\n",
       "      <td>South Carolina</td>\n",
       "      <td>South</td>\n",
       "    </tr>\n",
       "    <tr>\n",
       "      <th>8</th>\n",
       "      <td>Texas</td>\n",
       "      <td>South</td>\n",
       "    </tr>\n",
       "    <tr>\n",
       "      <th>9</th>\n",
       "      <td>Virginia</td>\n",
       "      <td>South</td>\n",
       "    </tr>\n",
       "    <tr>\n",
       "      <th>12</th>\n",
       "      <td>Georgia</td>\n",
       "      <td>South</td>\n",
       "    </tr>\n",
       "    <tr>\n",
       "      <th>50</th>\n",
       "      <td>Delaware</td>\n",
       "      <td>South</td>\n",
       "    </tr>\n",
       "    <tr>\n",
       "      <th>19</th>\n",
       "      <td>Arkansas</td>\n",
       "      <td>South</td>\n",
       "    </tr>\n",
       "    <tr>\n",
       "      <th>21</th>\n",
       "      <td>North Carolina</td>\n",
       "      <td>South</td>\n",
       "    </tr>\n",
       "    <tr>\n",
       "      <th>22</th>\n",
       "      <td>West Virginia</td>\n",
       "      <td>South</td>\n",
       "    </tr>\n",
       "    <tr>\n",
       "      <th>14</th>\n",
       "      <td>Colorado</td>\n",
       "      <td>West</td>\n",
       "    </tr>\n",
       "    <tr>\n",
       "      <th>36</th>\n",
       "      <td>Utah</td>\n",
       "      <td>West</td>\n",
       "    </tr>\n",
       "    <tr>\n",
       "      <th>13</th>\n",
       "      <td>Wyoming</td>\n",
       "      <td>West</td>\n",
       "    </tr>\n",
       "    <tr>\n",
       "      <th>26</th>\n",
       "      <td>California</td>\n",
       "      <td>West</td>\n",
       "    </tr>\n",
       "    <tr>\n",
       "      <th>10</th>\n",
       "      <td>Nevada</td>\n",
       "      <td>West</td>\n",
       "    </tr>\n",
       "    <tr>\n",
       "      <th>32</th>\n",
       "      <td>Washington</td>\n",
       "      <td>West</td>\n",
       "    </tr>\n",
       "    <tr>\n",
       "      <th>30</th>\n",
       "      <td>Arizona</td>\n",
       "      <td>West</td>\n",
       "    </tr>\n",
       "    <tr>\n",
       "      <th>6</th>\n",
       "      <td>Montana</td>\n",
       "      <td>West</td>\n",
       "    </tr>\n",
       "    <tr>\n",
       "      <th>24</th>\n",
       "      <td>Oregon</td>\n",
       "      <td>West</td>\n",
       "    </tr>\n",
       "    <tr>\n",
       "      <th>2</th>\n",
       "      <td>Idaho</td>\n",
       "      <td>West</td>\n",
       "    </tr>\n",
       "    <tr>\n",
       "      <th>1</th>\n",
       "      <td>New Mexico</td>\n",
       "      <td>West</td>\n",
       "    </tr>\n",
       "    <tr>\n",
       "      <th>17</th>\n",
       "      <td>Alaska</td>\n",
       "      <td>West</td>\n",
       "    </tr>\n",
       "    <tr>\n",
       "      <th>38</th>\n",
       "      <td>Hawaii</td>\n",
       "      <td>West</td>\n",
       "    </tr>\n",
       "  </tbody>\n",
       "</table>\n",
       "</div>"
      ],
      "text/plain": [
       "                   state     region\n",
       "0               Missouri    Midwest\n",
       "48              Illinois    Midwest\n",
       "47             Minnesota    Midwest\n",
       "3                   Iowa    Midwest\n",
       "46          South Dakota    Midwest\n",
       "45                Kansas    Midwest\n",
       "23               Indiana    Midwest\n",
       "43              Michigan    Midwest\n",
       "11              Nebraska    Midwest\n",
       "28                  Ohio    Midwest\n",
       "16             Wisconsin    Midwest\n",
       "15          North Dakota    Midwest\n",
       "29           Connecticut  Northeast\n",
       "20                 Maine  Northeast\n",
       "33              New York  Northeast\n",
       "18               Vermont  Northeast\n",
       "27          Pennsylvania  Northeast\n",
       "37         New Hampshire  Northeast\n",
       "41         Massachusetts  Northeast\n",
       "42          Rhode Island  Northeast\n",
       "44            New Jersey  Northeast\n",
       "34           Mississippi      South\n",
       "40               Alabama      South\n",
       "31             Louisiana      South\n",
       "35              Oklahoma      South\n",
       "39  District of Columbia      South\n",
       "25               Florida      South\n",
       "49             Tennessee      South\n",
       "4               Maryland      South\n",
       "5               Kentucky      South\n",
       "7         South Carolina      South\n",
       "8                  Texas      South\n",
       "9               Virginia      South\n",
       "12               Georgia      South\n",
       "50              Delaware      South\n",
       "19              Arkansas      South\n",
       "21        North Carolina      South\n",
       "22         West Virginia      South\n",
       "14              Colorado       West\n",
       "36                  Utah       West\n",
       "13               Wyoming       West\n",
       "26            California       West\n",
       "10                Nevada       West\n",
       "32            Washington       West\n",
       "30               Arizona       West\n",
       "6                Montana       West\n",
       "24                Oregon       West\n",
       "2                  Idaho       West\n",
       "1             New Mexico       West\n",
       "17                Alaska       West\n",
       "38                Hawaii       West"
      ]
     },
     "execution_count": 16,
     "metadata": {},
     "output_type": "execute_result"
    }
   ],
   "source": [
    "df_state_region"
   ]
  },
  {
   "cell_type": "code",
   "execution_count": 17,
   "metadata": {},
   "outputs": [
    {
     "data": {
      "text/html": [
       "<div>\n",
       "<style scoped>\n",
       "    .dataframe tbody tr th:only-of-type {\n",
       "        vertical-align: middle;\n",
       "    }\n",
       "\n",
       "    .dataframe tbody tr th {\n",
       "        vertical-align: top;\n",
       "    }\n",
       "\n",
       "    .dataframe thead th {\n",
       "        text-align: right;\n",
       "    }\n",
       "</style>\n",
       "<table border=\"1\" class=\"dataframe\">\n",
       "  <thead>\n",
       "    <tr style=\"text-align: right;\">\n",
       "      <th></th>\n",
       "      <th>order_id</th>\n",
       "      <th>user_id</th>\n",
       "      <th>order_number</th>\n",
       "      <th>orders_day_of_the_week</th>\n",
       "      <th>order_hour_of_day</th>\n",
       "      <th>days_since_prior_order</th>\n",
       "      <th>product_id</th>\n",
       "      <th>add_to_cart_order</th>\n",
       "      <th>reordered</th>\n",
       "      <th>product_name</th>\n",
       "      <th>...</th>\n",
       "      <th>spend_flag</th>\n",
       "      <th>mean_days_since_prior</th>\n",
       "      <th>frequency_flag</th>\n",
       "      <th>gender</th>\n",
       "      <th>state</th>\n",
       "      <th>age</th>\n",
       "      <th>date_joined</th>\n",
       "      <th>number_of_dependants</th>\n",
       "      <th>family_status</th>\n",
       "      <th>income</th>\n",
       "    </tr>\n",
       "  </thead>\n",
       "  <tbody>\n",
       "    <tr>\n",
       "      <th>0</th>\n",
       "      <td>2398795</td>\n",
       "      <td>1</td>\n",
       "      <td>2</td>\n",
       "      <td>3</td>\n",
       "      <td>7</td>\n",
       "      <td>15.0</td>\n",
       "      <td>196</td>\n",
       "      <td>1</td>\n",
       "      <td>1</td>\n",
       "      <td>Soda</td>\n",
       "      <td>...</td>\n",
       "      <td>Low spender</td>\n",
       "      <td>20.259259</td>\n",
       "      <td>Regular customer</td>\n",
       "      <td>Female</td>\n",
       "      <td>Alabama</td>\n",
       "      <td>31</td>\n",
       "      <td>2/17/2019</td>\n",
       "      <td>3</td>\n",
       "      <td>married</td>\n",
       "      <td>40423</td>\n",
       "    </tr>\n",
       "    <tr>\n",
       "      <th>1</th>\n",
       "      <td>473747</td>\n",
       "      <td>1</td>\n",
       "      <td>3</td>\n",
       "      <td>3</td>\n",
       "      <td>12</td>\n",
       "      <td>21.0</td>\n",
       "      <td>196</td>\n",
       "      <td>1</td>\n",
       "      <td>1</td>\n",
       "      <td>Soda</td>\n",
       "      <td>...</td>\n",
       "      <td>Low spender</td>\n",
       "      <td>20.259259</td>\n",
       "      <td>Non-frequent customer</td>\n",
       "      <td>Female</td>\n",
       "      <td>Alabama</td>\n",
       "      <td>31</td>\n",
       "      <td>2/17/2019</td>\n",
       "      <td>3</td>\n",
       "      <td>married</td>\n",
       "      <td>40423</td>\n",
       "    </tr>\n",
       "    <tr>\n",
       "      <th>2</th>\n",
       "      <td>2254736</td>\n",
       "      <td>1</td>\n",
       "      <td>4</td>\n",
       "      <td>4</td>\n",
       "      <td>7</td>\n",
       "      <td>29.0</td>\n",
       "      <td>196</td>\n",
       "      <td>1</td>\n",
       "      <td>1</td>\n",
       "      <td>Soda</td>\n",
       "      <td>...</td>\n",
       "      <td>Low spender</td>\n",
       "      <td>20.259259</td>\n",
       "      <td>Non-frequent customer</td>\n",
       "      <td>Female</td>\n",
       "      <td>Alabama</td>\n",
       "      <td>31</td>\n",
       "      <td>2/17/2019</td>\n",
       "      <td>3</td>\n",
       "      <td>married</td>\n",
       "      <td>40423</td>\n",
       "    </tr>\n",
       "    <tr>\n",
       "      <th>3</th>\n",
       "      <td>431534</td>\n",
       "      <td>1</td>\n",
       "      <td>5</td>\n",
       "      <td>4</td>\n",
       "      <td>15</td>\n",
       "      <td>28.0</td>\n",
       "      <td>196</td>\n",
       "      <td>1</td>\n",
       "      <td>1</td>\n",
       "      <td>Soda</td>\n",
       "      <td>...</td>\n",
       "      <td>Low spender</td>\n",
       "      <td>20.259259</td>\n",
       "      <td>Non-frequent customer</td>\n",
       "      <td>Female</td>\n",
       "      <td>Alabama</td>\n",
       "      <td>31</td>\n",
       "      <td>2/17/2019</td>\n",
       "      <td>3</td>\n",
       "      <td>married</td>\n",
       "      <td>40423</td>\n",
       "    </tr>\n",
       "    <tr>\n",
       "      <th>4</th>\n",
       "      <td>3367565</td>\n",
       "      <td>1</td>\n",
       "      <td>6</td>\n",
       "      <td>2</td>\n",
       "      <td>7</td>\n",
       "      <td>19.0</td>\n",
       "      <td>196</td>\n",
       "      <td>1</td>\n",
       "      <td>1</td>\n",
       "      <td>Soda</td>\n",
       "      <td>...</td>\n",
       "      <td>Low spender</td>\n",
       "      <td>20.259259</td>\n",
       "      <td>Regular customer</td>\n",
       "      <td>Female</td>\n",
       "      <td>Alabama</td>\n",
       "      <td>31</td>\n",
       "      <td>2/17/2019</td>\n",
       "      <td>3</td>\n",
       "      <td>married</td>\n",
       "      <td>40423</td>\n",
       "    </tr>\n",
       "  </tbody>\n",
       "</table>\n",
       "<p>5 rows × 30 columns</p>\n",
       "</div>"
      ],
      "text/plain": [
       "   order_id  user_id  order_number  orders_day_of_the_week  order_hour_of_day  \\\n",
       "0   2398795        1             2                       3                  7   \n",
       "1    473747        1             3                       3                 12   \n",
       "2   2254736        1             4                       4                  7   \n",
       "3    431534        1             5                       4                 15   \n",
       "4   3367565        1             6                       2                  7   \n",
       "\n",
       "   days_since_prior_order  product_id  add_to_cart_order  reordered  \\\n",
       "0                    15.0         196                  1          1   \n",
       "1                    21.0         196                  1          1   \n",
       "2                    29.0         196                  1          1   \n",
       "3                    28.0         196                  1          1   \n",
       "4                    19.0         196                  1          1   \n",
       "\n",
       "  product_name  ...   spend_flag  mean_days_since_prior  \\\n",
       "0         Soda  ...  Low spender              20.259259   \n",
       "1         Soda  ...  Low spender              20.259259   \n",
       "2         Soda  ...  Low spender              20.259259   \n",
       "3         Soda  ...  Low spender              20.259259   \n",
       "4         Soda  ...  Low spender              20.259259   \n",
       "\n",
       "          frequency_flag  gender    state age date_joined  \\\n",
       "0       Regular customer  Female  Alabama  31   2/17/2019   \n",
       "1  Non-frequent customer  Female  Alabama  31   2/17/2019   \n",
       "2  Non-frequent customer  Female  Alabama  31   2/17/2019   \n",
       "3  Non-frequent customer  Female  Alabama  31   2/17/2019   \n",
       "4       Regular customer  Female  Alabama  31   2/17/2019   \n",
       "\n",
       "   number_of_dependants family_status  income  \n",
       "0                     3       married   40423  \n",
       "1                     3       married   40423  \n",
       "2                     3       married   40423  \n",
       "3                     3       married   40423  \n",
       "4                     3       married   40423  \n",
       "\n",
       "[5 rows x 30 columns]"
      ]
     },
     "execution_count": 17,
     "metadata": {},
     "output_type": "execute_result"
    }
   ],
   "source": [
    "# Final review of the \"df_poc\" dataframe before merging with the \"df_state_region\" dataframe\n",
    "\n",
    "df_poc.head()"
   ]
  },
  {
   "cell_type": "code",
   "execution_count": 19,
   "metadata": {},
   "outputs": [],
   "source": [
    "# Merge the df_poc dataframe with the df_state_region dataframe\n",
    "# They have a different shape but share the \"state\" column\n",
    "# The \"indicator = 'final_merge' argument\" checks for a full match,\n",
    "# and because we had a previous merge that took the default name, this column will have a new name\n",
    "\n",
    "df_merged_all = df_poc.merge(df_state_region, how = 'inner', on = 'state', indicator = 'final_merge')"
   ]
  },
  {
   "cell_type": "code",
   "execution_count": 20,
   "metadata": {},
   "outputs": [
    {
     "data": {
      "text/plain": [
       "both          30328763\n",
       "right_only           0\n",
       "left_only            0\n",
       "Name: final_merge, dtype: int64"
      ]
     },
     "execution_count": 20,
     "metadata": {},
     "output_type": "execute_result"
    }
   ],
   "source": [
    "# Review the frequency of the \"exclude_flag\" column\n",
    "# Keep the \"NaN\" and exclude the \"exclude\" rows\n",
    "\n",
    "df_merged_all['final_merge'].value_counts(dropna = False)"
   ]
  },
  {
   "cell_type": "markdown",
   "metadata": {},
   "source": [
    "#### 5. Exercise Q3b. Spending habits between U.S. regions"
   ]
  },
  {
   "cell_type": "code",
   "execution_count": 21,
   "metadata": {},
   "outputs": [],
   "source": [
    "# Crosstab the region variable with the spending flag\n",
    "\n",
    "crosstab = pd.crosstab(df_merged_all['spend_flag'], df_merged_all['region'], dropna = False)"
   ]
  },
  {
   "cell_type": "code",
   "execution_count": 22,
   "metadata": {},
   "outputs": [
    {
     "data": {
      "text/html": [
       "<div>\n",
       "<style scoped>\n",
       "    .dataframe tbody tr th:only-of-type {\n",
       "        vertical-align: middle;\n",
       "    }\n",
       "\n",
       "    .dataframe tbody tr th {\n",
       "        vertical-align: top;\n",
       "    }\n",
       "\n",
       "    .dataframe thead th {\n",
       "        text-align: right;\n",
       "    }\n",
       "</style>\n",
       "<table border=\"1\" class=\"dataframe\">\n",
       "  <thead>\n",
       "    <tr style=\"text-align: right;\">\n",
       "      <th>region</th>\n",
       "      <th>Midwest</th>\n",
       "      <th>Northeast</th>\n",
       "      <th>South</th>\n",
       "      <th>West</th>\n",
       "    </tr>\n",
       "    <tr>\n",
       "      <th>spend_flag</th>\n",
       "      <th></th>\n",
       "      <th></th>\n",
       "      <th></th>\n",
       "      <th></th>\n",
       "    </tr>\n",
       "  </thead>\n",
       "  <tbody>\n",
       "    <tr>\n",
       "      <th>High spender</th>\n",
       "      <td>148321</td>\n",
       "      <td>102905</td>\n",
       "      <td>197099</td>\n",
       "      <td>149907</td>\n",
       "    </tr>\n",
       "    <tr>\n",
       "      <th>Low spender</th>\n",
       "      <td>6959265</td>\n",
       "      <td>5253367</td>\n",
       "      <td>9902718</td>\n",
       "      <td>7615181</td>\n",
       "    </tr>\n",
       "  </tbody>\n",
       "</table>\n",
       "</div>"
      ],
      "text/plain": [
       "region        Midwest  Northeast    South     West\n",
       "spend_flag                                        \n",
       "High spender   148321     102905   197099   149907\n",
       "Low spender   6959265    5253367  9902718  7615181"
      ]
     },
     "execution_count": 22,
     "metadata": {},
     "output_type": "execute_result"
    }
   ],
   "source": [
    "# Spending habits between the different U.S. regions\n",
    "\n",
    "crosstab"
   ]
  },
  {
   "cell_type": "markdown",
   "metadata": {},
   "source": [
    "#### 6. Exercise Q4. Exclusion flag for low-activity customers"
   ]
  },
  {
   "cell_type": "code",
   "execution_count": 23,
   "metadata": {},
   "outputs": [],
   "source": [
    "# Exclusion flag for low-activity customers with less than 5 orders\n",
    "\n",
    "df_merged_all.loc[df_merged_all['max_order'] < 5, 'exclude_flag'] = 'exclude'"
   ]
  },
  {
   "cell_type": "code",
   "execution_count": 24,
   "metadata": {},
   "outputs": [
    {
     "data": {
      "text/plain": [
       "NaN        29303281\n",
       "exclude     1025482\n",
       "Name: exclude_flag, dtype: int64"
      ]
     },
     "execution_count": 24,
     "metadata": {},
     "output_type": "execute_result"
    }
   ],
   "source": [
    "# Review the frequency of the \"exclude_flag\" column\n",
    "# Keep the \"NaN\" and exclude the \"exclude\" rows\n",
    "\n",
    "df_merged_all['exclude_flag'].value_counts(dropna = False)"
   ]
  },
  {
   "cell_type": "code",
   "execution_count": 25,
   "metadata": {},
   "outputs": [],
   "source": [
    "# Subset the rows where \"exclude_flag\" value is \"NaN\"\n",
    "\n",
    "df_merged_all_included = df_merged_all[df_merged_all['exclude_flag'].isnull() == True]"
   ]
  },
  {
   "cell_type": "code",
   "execution_count": 26,
   "metadata": {},
   "outputs": [
    {
     "data": {
      "text/plain": [
       "NaN    29303281\n",
       "Name: exclude_flag, dtype: int64"
      ]
     },
     "execution_count": 26,
     "metadata": {},
     "output_type": "execute_result"
    }
   ],
   "source": [
    "# Review the frequency of the the rows that will be included in the analysis\n",
    "\n",
    "df_merged_all_included['exclude_flag'].value_counts(dropna = False)"
   ]
  },
  {
   "cell_type": "code",
   "execution_count": 27,
   "metadata": {},
   "outputs": [],
   "source": [
    "# Subset the rows where the \"exclude_flag\" value is \"exclude\"\n",
    "\n",
    "df_merged_all_excluded = df_merged_all[df_merged_all['exclude_flag'].isnull() == False]"
   ]
  },
  {
   "cell_type": "code",
   "execution_count": 28,
   "metadata": {},
   "outputs": [
    {
     "data": {
      "text/plain": [
       "exclude    1025482\n",
       "Name: exclude_flag, dtype: int64"
      ]
     },
     "execution_count": 28,
     "metadata": {},
     "output_type": "execute_result"
    }
   ],
   "source": [
    "# Review the frequency of the the rows that will be excluded from the analysis\n",
    "\n",
    "df_merged_all_excluded['exclude_flag'].value_counts(dropna = False)"
   ]
  },
  {
   "cell_type": "code",
   "execution_count": 29,
   "metadata": {},
   "outputs": [],
   "source": [
    "# Export excluded rows (low-activity customers < 5 orders) \"df_merged_all_excluded\" dataframe to pkl\n",
    "\n",
    "df_merged_all_excluded.to_pickle(os.path.join(path, '03 Scripts','Prepared Data', 'orders_products_customers_low_activity.pkl'))"
   ]
  },
  {
   "cell_type": "code",
   "execution_count": 30,
   "metadata": {},
   "outputs": [],
   "source": [
    "# Export included rows (high-activity customers >= 5 orders) \"df_merged_all_included\" dataframe to pkl\n",
    "\n",
    "df_merged_all_included.to_pickle(os.path.join(path, '03 Scripts','Prepared Data', 'orders_products_customers_high_activity.pkl'))"
   ]
  },
  {
   "cell_type": "markdown",
   "metadata": {},
   "source": [
    "#### 7. Exercise Q5a. Customer profiles"
   ]
  },
  {
   "cell_type": "code",
   "execution_count": 29,
   "metadata": {},
   "outputs": [],
   "source": [
    "# Retrieve the orders_products_customers_high_activity.pkl file\n",
    "# Assign it to a new dataframe \"df_customer_profile\"\n",
    "\n",
    "df_customer_profile = pd.read_pickle(os.path.join(path, '03 Scripts', 'Prepared Data', 'orders_products_customers_high_activity.pkl'))"
   ]
  },
  {
   "cell_type": "code",
   "execution_count": 30,
   "metadata": {},
   "outputs": [
    {
     "data": {
      "text/plain": [
       "Index(['order_id', 'user_id', 'order_number', 'orders_day_of_the_week',\n",
       "       'order_hour_of_day', 'days_since_prior_order', 'product_id',\n",
       "       'add_to_cart_order', 'reordered', 'product_name', 'aisle_id',\n",
       "       'department_id', 'prices', 'match', 'price_range', 'busiest day',\n",
       "       'busiest_period_of_day', 'max_order', 'loyalty_flag', 'mean_prices',\n",
       "       'spend_flag', 'mean_days_since_prior', 'frequency_flag', 'gender',\n",
       "       'state', 'age', 'date_joined', 'number_of_dependants', 'family_status',\n",
       "       'income', 'region', 'final_merge', 'exclude_flag'],\n",
       "      dtype='object')"
      ]
     },
     "execution_count": 30,
     "metadata": {},
     "output_type": "execute_result"
    }
   ],
   "source": [
    "# Review the columns names\n",
    "\n",
    "df_customer_profile.columns"
   ]
  },
  {
   "cell_type": "code",
   "execution_count": 31,
   "metadata": {},
   "outputs": [
    {
     "data": {
      "text/plain": [
       "NaN    29303281\n",
       "Name: exclude_flag, dtype: int64"
      ]
     },
     "execution_count": 31,
     "metadata": {},
     "output_type": "execute_result"
    }
   ],
   "source": [
    "# Ensure the \"exclude_flag\" column has only NaNs\n",
    "\n",
    "df_customer_profile['exclude_flag'].value_counts(dropna = False)"
   ]
  },
  {
   "cell_type": "code",
   "execution_count": 32,
   "metadata": {},
   "outputs": [
    {
     "data": {
      "text/plain": [
       "both          29303281\n",
       "right_only           0\n",
       "left_only            0\n",
       "Name: final_merge, dtype: int64"
      ]
     },
     "execution_count": 32,
     "metadata": {},
     "output_type": "execute_result"
    }
   ],
   "source": [
    "# Ensure the \"final_merge\" has only \"both\" rows\n",
    "\n",
    "df_customer_profile['final_merge'].value_counts(dropna = False)"
   ]
  },
  {
   "cell_type": "code",
   "execution_count": 33,
   "metadata": {},
   "outputs": [],
   "source": [
    "# Drop \"exclude_flag\", \"final_merge\" variables\n",
    "\n",
    "df_customer_profile.drop(columns=['exclude_flag', 'final_merge'], inplace = True)"
   ]
  },
  {
   "cell_type": "code",
   "execution_count": 34,
   "metadata": {},
   "outputs": [],
   "source": [
    "# Profile variable based on age, income, certain goods in the \"department_id\" column, and number of dependants\n",
    "\n",
    "# Profile: \"single adult\" - income >= 36000 - department 7, 10, 21\n",
    "\n",
    "df_customer_profile.loc[(df_customer_profile['age'] > 17) &  \n",
    "                        (df_customer_profile['age'] < 60) &\n",
    "                        (df_customer_profile['income'] >= 36000) & \n",
    "                        (df_customer_profile['department_id'].isin([7, 10, 21])) & \n",
    "                        (df_customer_profile['number_of_dependants'] >= 0) &\n",
    "                        (df_customer_profile['family_status'] != 'married'), \n",
    "                        'customer_profile'] = 'single adult'\n"
   ]
  },
  {
   "cell_type": "code",
   "execution_count": 35,
   "metadata": {},
   "outputs": [],
   "source": [
    "# Profile: \"married adult\" - income >= 36000 - department 7, 10, 21 \n",
    "\n",
    "df_customer_profile.loc[(df_customer_profile['age'] > 17) &  \n",
    "                        (df_customer_profile['age'] < 60) &\n",
    "                        (df_customer_profile['income'] >= 36000) & \n",
    "                        (df_customer_profile['department_id'].isin([7, 10, 21])) & \n",
    "                        (df_customer_profile['number_of_dependants'] >= 0) &\n",
    "                        (df_customer_profile['family_status'] == 'married'), \n",
    "                        'customer_profile'] = 'married adult'\n"
   ]
  },
  {
   "cell_type": "code",
   "execution_count": 36,
   "metadata": {},
   "outputs": [],
   "source": [
    "# Profile: \"senior\" - married or single - income >= 36000 - departments 7, 10, 21\n",
    "\n",
    "df_customer_profile.loc[(df_customer_profile['age'] >= 60) &  \n",
    "                        (df_customer_profile['income'] >= 36000) & \n",
    "                        (df_customer_profile['department_id'].isin([7, 10, 21])) & \n",
    "                        (df_customer_profile['number_of_dependants'] >= 0) &\n",
    "                        ((df_customer_profile['family_status'] == 'married') |\n",
    "                        (df_customer_profile['family_status'] != 'married')), \n",
    "                        'customer_profile'] = 'senior'"
   ]
  },
  {
   "cell_type": "code",
   "execution_count": 37,
   "metadata": {},
   "outputs": [
    {
     "data": {
      "text/html": [
       "<div>\n",
       "<style scoped>\n",
       "    .dataframe tbody tr th:only-of-type {\n",
       "        vertical-align: middle;\n",
       "    }\n",
       "\n",
       "    .dataframe tbody tr th {\n",
       "        vertical-align: top;\n",
       "    }\n",
       "\n",
       "    .dataframe thead th {\n",
       "        text-align: right;\n",
       "    }\n",
       "</style>\n",
       "<table border=\"1\" class=\"dataframe\">\n",
       "  <thead>\n",
       "    <tr style=\"text-align: right;\">\n",
       "      <th></th>\n",
       "      <th>order_id</th>\n",
       "      <th>user_id</th>\n",
       "      <th>order_number</th>\n",
       "      <th>orders_day_of_the_week</th>\n",
       "      <th>order_hour_of_day</th>\n",
       "      <th>days_since_prior_order</th>\n",
       "      <th>product_id</th>\n",
       "      <th>add_to_cart_order</th>\n",
       "      <th>reordered</th>\n",
       "      <th>product_name</th>\n",
       "      <th>...</th>\n",
       "      <th>frequency_flag</th>\n",
       "      <th>gender</th>\n",
       "      <th>state</th>\n",
       "      <th>age</th>\n",
       "      <th>date_joined</th>\n",
       "      <th>number_of_dependants</th>\n",
       "      <th>family_status</th>\n",
       "      <th>income</th>\n",
       "      <th>region</th>\n",
       "      <th>customer_profile</th>\n",
       "    </tr>\n",
       "  </thead>\n",
       "  <tbody>\n",
       "    <tr>\n",
       "      <th>0</th>\n",
       "      <td>2398795</td>\n",
       "      <td>1</td>\n",
       "      <td>2</td>\n",
       "      <td>3</td>\n",
       "      <td>7</td>\n",
       "      <td>15.0</td>\n",
       "      <td>196</td>\n",
       "      <td>1</td>\n",
       "      <td>1</td>\n",
       "      <td>Soda</td>\n",
       "      <td>...</td>\n",
       "      <td>Regular customer</td>\n",
       "      <td>Female</td>\n",
       "      <td>Alabama</td>\n",
       "      <td>31</td>\n",
       "      <td>2/17/2019</td>\n",
       "      <td>3</td>\n",
       "      <td>married</td>\n",
       "      <td>40423</td>\n",
       "      <td>South</td>\n",
       "      <td>married adult</td>\n",
       "    </tr>\n",
       "    <tr>\n",
       "      <th>1</th>\n",
       "      <td>473747</td>\n",
       "      <td>1</td>\n",
       "      <td>3</td>\n",
       "      <td>3</td>\n",
       "      <td>12</td>\n",
       "      <td>21.0</td>\n",
       "      <td>196</td>\n",
       "      <td>1</td>\n",
       "      <td>1</td>\n",
       "      <td>Soda</td>\n",
       "      <td>...</td>\n",
       "      <td>Non-frequent customer</td>\n",
       "      <td>Female</td>\n",
       "      <td>Alabama</td>\n",
       "      <td>31</td>\n",
       "      <td>2/17/2019</td>\n",
       "      <td>3</td>\n",
       "      <td>married</td>\n",
       "      <td>40423</td>\n",
       "      <td>South</td>\n",
       "      <td>married adult</td>\n",
       "    </tr>\n",
       "    <tr>\n",
       "      <th>2</th>\n",
       "      <td>2254736</td>\n",
       "      <td>1</td>\n",
       "      <td>4</td>\n",
       "      <td>4</td>\n",
       "      <td>7</td>\n",
       "      <td>29.0</td>\n",
       "      <td>196</td>\n",
       "      <td>1</td>\n",
       "      <td>1</td>\n",
       "      <td>Soda</td>\n",
       "      <td>...</td>\n",
       "      <td>Non-frequent customer</td>\n",
       "      <td>Female</td>\n",
       "      <td>Alabama</td>\n",
       "      <td>31</td>\n",
       "      <td>2/17/2019</td>\n",
       "      <td>3</td>\n",
       "      <td>married</td>\n",
       "      <td>40423</td>\n",
       "      <td>South</td>\n",
       "      <td>married adult</td>\n",
       "    </tr>\n",
       "    <tr>\n",
       "      <th>3</th>\n",
       "      <td>431534</td>\n",
       "      <td>1</td>\n",
       "      <td>5</td>\n",
       "      <td>4</td>\n",
       "      <td>15</td>\n",
       "      <td>28.0</td>\n",
       "      <td>196</td>\n",
       "      <td>1</td>\n",
       "      <td>1</td>\n",
       "      <td>Soda</td>\n",
       "      <td>...</td>\n",
       "      <td>Non-frequent customer</td>\n",
       "      <td>Female</td>\n",
       "      <td>Alabama</td>\n",
       "      <td>31</td>\n",
       "      <td>2/17/2019</td>\n",
       "      <td>3</td>\n",
       "      <td>married</td>\n",
       "      <td>40423</td>\n",
       "      <td>South</td>\n",
       "      <td>married adult</td>\n",
       "    </tr>\n",
       "    <tr>\n",
       "      <th>4</th>\n",
       "      <td>3367565</td>\n",
       "      <td>1</td>\n",
       "      <td>6</td>\n",
       "      <td>2</td>\n",
       "      <td>7</td>\n",
       "      <td>19.0</td>\n",
       "      <td>196</td>\n",
       "      <td>1</td>\n",
       "      <td>1</td>\n",
       "      <td>Soda</td>\n",
       "      <td>...</td>\n",
       "      <td>Regular customer</td>\n",
       "      <td>Female</td>\n",
       "      <td>Alabama</td>\n",
       "      <td>31</td>\n",
       "      <td>2/17/2019</td>\n",
       "      <td>3</td>\n",
       "      <td>married</td>\n",
       "      <td>40423</td>\n",
       "      <td>South</td>\n",
       "      <td>married adult</td>\n",
       "    </tr>\n",
       "  </tbody>\n",
       "</table>\n",
       "<p>5 rows × 32 columns</p>\n",
       "</div>"
      ],
      "text/plain": [
       "   order_id  user_id  order_number  orders_day_of_the_week  order_hour_of_day  \\\n",
       "0   2398795        1             2                       3                  7   \n",
       "1    473747        1             3                       3                 12   \n",
       "2   2254736        1             4                       4                  7   \n",
       "3    431534        1             5                       4                 15   \n",
       "4   3367565        1             6                       2                  7   \n",
       "\n",
       "   days_since_prior_order  product_id  add_to_cart_order  reordered  \\\n",
       "0                    15.0         196                  1          1   \n",
       "1                    21.0         196                  1          1   \n",
       "2                    29.0         196                  1          1   \n",
       "3                    28.0         196                  1          1   \n",
       "4                    19.0         196                  1          1   \n",
       "\n",
       "  product_name  ...         frequency_flag  gender    state age date_joined  \\\n",
       "0         Soda  ...       Regular customer  Female  Alabama  31   2/17/2019   \n",
       "1         Soda  ...  Non-frequent customer  Female  Alabama  31   2/17/2019   \n",
       "2         Soda  ...  Non-frequent customer  Female  Alabama  31   2/17/2019   \n",
       "3         Soda  ...  Non-frequent customer  Female  Alabama  31   2/17/2019   \n",
       "4         Soda  ...       Regular customer  Female  Alabama  31   2/17/2019   \n",
       "\n",
       "  number_of_dependants family_status  income region  customer_profile  \n",
       "0                    3       married   40423  South     married adult  \n",
       "1                    3       married   40423  South     married adult  \n",
       "2                    3       married   40423  South     married adult  \n",
       "3                    3       married   40423  South     married adult  \n",
       "4                    3       married   40423  South     married adult  \n",
       "\n",
       "[5 rows x 32 columns]"
      ]
     },
     "execution_count": 37,
     "metadata": {},
     "output_type": "execute_result"
    }
   ],
   "source": [
    "# Review the new variable\n",
    "\n",
    "df_customer_profile.head()"
   ]
  },
  {
   "cell_type": "code",
   "execution_count": 38,
   "metadata": {},
   "outputs": [
    {
     "data": {
      "text/plain": [
       "NaN              26887392\n",
       "married adult     1071421\n",
       "senior             838893\n",
       "single adult       505575\n",
       "Name: customer_profile, dtype: int64"
      ]
     },
     "execution_count": 38,
     "metadata": {},
     "output_type": "execute_result"
    }
   ],
   "source": [
    "# Review the frequency of each profile and those not assigned a profile\n",
    "\n",
    "df_customer_profile['customer_profile'].value_counts(dropna = False)"
   ]
  },
  {
   "cell_type": "code",
   "execution_count": 39,
   "metadata": {},
   "outputs": [],
   "source": [
    "# Subset the rows where \"customer_profile\" has profile values (not \"NaN\")\n",
    "\n",
    "df_customer_profile_included = df_customer_profile[df_customer_profile['customer_profile'].isnull() == False]"
   ]
  },
  {
   "cell_type": "code",
   "execution_count": 40,
   "metadata": {},
   "outputs": [
    {
     "data": {
      "text/plain": [
       "married adult    1071421\n",
       "senior            838893\n",
       "single adult      505575\n",
       "Name: customer_profile, dtype: int64"
      ]
     },
     "execution_count": 40,
     "metadata": {},
     "output_type": "execute_result"
    }
   ],
   "source": [
    "# Review the frequency of each profile\n",
    "\n",
    "df_customer_profile_included['customer_profile'].value_counts(dropna = False)"
   ]
  },
  {
   "cell_type": "code",
   "execution_count": 41,
   "metadata": {},
   "outputs": [
    {
     "data": {
      "text/plain": [
       "(2415889, 32)"
      ]
     },
     "execution_count": 41,
     "metadata": {},
     "output_type": "execute_result"
    }
   ],
   "source": [
    "# Review the shape of the customer profiles we're interested in\n",
    "\n",
    "df_customer_profile_included.shape"
   ]
  },
  {
   "cell_type": "markdown",
   "metadata": {},
   "source": [
    "#### 8. Exercise Q5b. Sampling to avoid memory issues"
   ]
  },
  {
   "cell_type": "code",
   "execution_count": 42,
   "metadata": {},
   "outputs": [
    {
     "data": {
      "text/plain": [
       "array([0.80479912, 0.28526637, 0.7575262 , 0.76212636])"
      ]
     },
     "execution_count": 42,
     "metadata": {},
     "output_type": "execute_result"
    }
   ],
   "source": [
    "# To create a subset that represents the data, rows would need to be randomly chosen\n",
    "# Using a seed to ensure the random distribution is reproducible\n",
    "\n",
    "np.random.rand(4)"
   ]
  },
  {
   "cell_type": "code",
   "execution_count": 43,
   "metadata": {},
   "outputs": [],
   "source": [
    "# The random.rand() creates and distributes random float numbers between 0 and 1\n",
    "# The 0.7 is for the 70/30 split. Rows with randomly assigned number less than 0.7 are placed in one sample, \n",
    "# rows with randomly assigned number greater than 0.7 are placed in the other,\n",
    "# splitting the dataframe into two dataframes at a 70/30 ratio\n",
    "# Store the resulting boolean values in a list (dev)\n",
    "\n",
    "dev = np.random.rand(len(df_customer_profile_included)) <= 0.7"
   ]
  },
  {
   "cell_type": "code",
   "execution_count": 44,
   "metadata": {},
   "outputs": [],
   "source": [
    "# All rows where dev = True assigned to \"big\"\n",
    "\n",
    "df_big = df_customer_profile_included[dev]"
   ]
  },
  {
   "cell_type": "code",
   "execution_count": 45,
   "metadata": {},
   "outputs": [],
   "source": [
    "# The tilde (~) directs dev = False row assigned to \"small\"\n",
    "\n",
    "df_small = df_customer_profile_included[~dev]"
   ]
  },
  {
   "cell_type": "code",
   "execution_count": 46,
   "metadata": {},
   "outputs": [
    {
     "data": {
      "text/html": [
       "<div>\n",
       "<style scoped>\n",
       "    .dataframe tbody tr th:only-of-type {\n",
       "        vertical-align: middle;\n",
       "    }\n",
       "\n",
       "    .dataframe tbody tr th {\n",
       "        vertical-align: top;\n",
       "    }\n",
       "\n",
       "    .dataframe thead th {\n",
       "        text-align: right;\n",
       "    }\n",
       "</style>\n",
       "<table border=\"1\" class=\"dataframe\">\n",
       "  <thead>\n",
       "    <tr style=\"text-align: right;\">\n",
       "      <th></th>\n",
       "      <th>order_id</th>\n",
       "      <th>user_id</th>\n",
       "      <th>order_number</th>\n",
       "      <th>orders_day_of_the_week</th>\n",
       "      <th>order_hour_of_day</th>\n",
       "      <th>days_since_prior_order</th>\n",
       "      <th>product_id</th>\n",
       "      <th>add_to_cart_order</th>\n",
       "      <th>reordered</th>\n",
       "      <th>product_name</th>\n",
       "      <th>...</th>\n",
       "      <th>frequency_flag</th>\n",
       "      <th>gender</th>\n",
       "      <th>state</th>\n",
       "      <th>age</th>\n",
       "      <th>date_joined</th>\n",
       "      <th>number_of_dependants</th>\n",
       "      <th>family_status</th>\n",
       "      <th>income</th>\n",
       "      <th>region</th>\n",
       "      <th>customer_profile</th>\n",
       "    </tr>\n",
       "  </thead>\n",
       "  <tbody>\n",
       "    <tr>\n",
       "      <th>0</th>\n",
       "      <td>2398795</td>\n",
       "      <td>1</td>\n",
       "      <td>2</td>\n",
       "      <td>3</td>\n",
       "      <td>7</td>\n",
       "      <td>15.0</td>\n",
       "      <td>196</td>\n",
       "      <td>1</td>\n",
       "      <td>1</td>\n",
       "      <td>Soda</td>\n",
       "      <td>...</td>\n",
       "      <td>Regular customer</td>\n",
       "      <td>Female</td>\n",
       "      <td>Alabama</td>\n",
       "      <td>31</td>\n",
       "      <td>2/17/2019</td>\n",
       "      <td>3</td>\n",
       "      <td>married</td>\n",
       "      <td>40423</td>\n",
       "      <td>South</td>\n",
       "      <td>married adult</td>\n",
       "    </tr>\n",
       "    <tr>\n",
       "      <th>2</th>\n",
       "      <td>2254736</td>\n",
       "      <td>1</td>\n",
       "      <td>4</td>\n",
       "      <td>4</td>\n",
       "      <td>7</td>\n",
       "      <td>29.0</td>\n",
       "      <td>196</td>\n",
       "      <td>1</td>\n",
       "      <td>1</td>\n",
       "      <td>Soda</td>\n",
       "      <td>...</td>\n",
       "      <td>Non-frequent customer</td>\n",
       "      <td>Female</td>\n",
       "      <td>Alabama</td>\n",
       "      <td>31</td>\n",
       "      <td>2/17/2019</td>\n",
       "      <td>3</td>\n",
       "      <td>married</td>\n",
       "      <td>40423</td>\n",
       "      <td>South</td>\n",
       "      <td>married adult</td>\n",
       "    </tr>\n",
       "    <tr>\n",
       "      <th>3</th>\n",
       "      <td>431534</td>\n",
       "      <td>1</td>\n",
       "      <td>5</td>\n",
       "      <td>4</td>\n",
       "      <td>15</td>\n",
       "      <td>28.0</td>\n",
       "      <td>196</td>\n",
       "      <td>1</td>\n",
       "      <td>1</td>\n",
       "      <td>Soda</td>\n",
       "      <td>...</td>\n",
       "      <td>Non-frequent customer</td>\n",
       "      <td>Female</td>\n",
       "      <td>Alabama</td>\n",
       "      <td>31</td>\n",
       "      <td>2/17/2019</td>\n",
       "      <td>3</td>\n",
       "      <td>married</td>\n",
       "      <td>40423</td>\n",
       "      <td>South</td>\n",
       "      <td>married adult</td>\n",
       "    </tr>\n",
       "    <tr>\n",
       "      <th>4</th>\n",
       "      <td>3367565</td>\n",
       "      <td>1</td>\n",
       "      <td>6</td>\n",
       "      <td>2</td>\n",
       "      <td>7</td>\n",
       "      <td>19.0</td>\n",
       "      <td>196</td>\n",
       "      <td>1</td>\n",
       "      <td>1</td>\n",
       "      <td>Soda</td>\n",
       "      <td>...</td>\n",
       "      <td>Regular customer</td>\n",
       "      <td>Female</td>\n",
       "      <td>Alabama</td>\n",
       "      <td>31</td>\n",
       "      <td>2/17/2019</td>\n",
       "      <td>3</td>\n",
       "      <td>married</td>\n",
       "      <td>40423</td>\n",
       "      <td>South</td>\n",
       "      <td>married adult</td>\n",
       "    </tr>\n",
       "    <tr>\n",
       "      <th>5</th>\n",
       "      <td>550135</td>\n",
       "      <td>1</td>\n",
       "      <td>7</td>\n",
       "      <td>1</td>\n",
       "      <td>9</td>\n",
       "      <td>20.0</td>\n",
       "      <td>196</td>\n",
       "      <td>1</td>\n",
       "      <td>1</td>\n",
       "      <td>Soda</td>\n",
       "      <td>...</td>\n",
       "      <td>Regular customer</td>\n",
       "      <td>Female</td>\n",
       "      <td>Alabama</td>\n",
       "      <td>31</td>\n",
       "      <td>2/17/2019</td>\n",
       "      <td>3</td>\n",
       "      <td>married</td>\n",
       "      <td>40423</td>\n",
       "      <td>South</td>\n",
       "      <td>married adult</td>\n",
       "    </tr>\n",
       "  </tbody>\n",
       "</table>\n",
       "<p>5 rows × 32 columns</p>\n",
       "</div>"
      ],
      "text/plain": [
       "   order_id  user_id  order_number  orders_day_of_the_week  order_hour_of_day  \\\n",
       "0   2398795        1             2                       3                  7   \n",
       "2   2254736        1             4                       4                  7   \n",
       "3    431534        1             5                       4                 15   \n",
       "4   3367565        1             6                       2                  7   \n",
       "5    550135        1             7                       1                  9   \n",
       "\n",
       "   days_since_prior_order  product_id  add_to_cart_order  reordered  \\\n",
       "0                    15.0         196                  1          1   \n",
       "2                    29.0         196                  1          1   \n",
       "3                    28.0         196                  1          1   \n",
       "4                    19.0         196                  1          1   \n",
       "5                    20.0         196                  1          1   \n",
       "\n",
       "  product_name  ...         frequency_flag  gender    state age date_joined  \\\n",
       "0         Soda  ...       Regular customer  Female  Alabama  31   2/17/2019   \n",
       "2         Soda  ...  Non-frequent customer  Female  Alabama  31   2/17/2019   \n",
       "3         Soda  ...  Non-frequent customer  Female  Alabama  31   2/17/2019   \n",
       "4         Soda  ...       Regular customer  Female  Alabama  31   2/17/2019   \n",
       "5         Soda  ...       Regular customer  Female  Alabama  31   2/17/2019   \n",
       "\n",
       "  number_of_dependants family_status  income region  customer_profile  \n",
       "0                    3       married   40423  South     married adult  \n",
       "2                    3       married   40423  South     married adult  \n",
       "3                    3       married   40423  South     married adult  \n",
       "4                    3       married   40423  South     married adult  \n",
       "5                    3       married   40423  South     married adult  \n",
       "\n",
       "[5 rows x 32 columns]"
      ]
     },
     "execution_count": 46,
     "metadata": {},
     "output_type": "execute_result"
    }
   ],
   "source": [
    "# Review the big (70%) dataframe\n",
    "\n",
    "df_big.head()"
   ]
  },
  {
   "cell_type": "code",
   "execution_count": 47,
   "metadata": {},
   "outputs": [
    {
     "data": {
      "text/html": [
       "<div>\n",
       "<style scoped>\n",
       "    .dataframe tbody tr th:only-of-type {\n",
       "        vertical-align: middle;\n",
       "    }\n",
       "\n",
       "    .dataframe tbody tr th {\n",
       "        vertical-align: top;\n",
       "    }\n",
       "\n",
       "    .dataframe thead th {\n",
       "        text-align: right;\n",
       "    }\n",
       "</style>\n",
       "<table border=\"1\" class=\"dataframe\">\n",
       "  <thead>\n",
       "    <tr style=\"text-align: right;\">\n",
       "      <th></th>\n",
       "      <th>order_id</th>\n",
       "      <th>user_id</th>\n",
       "      <th>order_number</th>\n",
       "      <th>orders_day_of_the_week</th>\n",
       "      <th>order_hour_of_day</th>\n",
       "      <th>days_since_prior_order</th>\n",
       "      <th>product_id</th>\n",
       "      <th>add_to_cart_order</th>\n",
       "      <th>reordered</th>\n",
       "      <th>product_name</th>\n",
       "      <th>...</th>\n",
       "      <th>frequency_flag</th>\n",
       "      <th>gender</th>\n",
       "      <th>state</th>\n",
       "      <th>age</th>\n",
       "      <th>date_joined</th>\n",
       "      <th>number_of_dependants</th>\n",
       "      <th>family_status</th>\n",
       "      <th>income</th>\n",
       "      <th>region</th>\n",
       "      <th>customer_profile</th>\n",
       "    </tr>\n",
       "  </thead>\n",
       "  <tbody>\n",
       "    <tr>\n",
       "      <th>1</th>\n",
       "      <td>473747</td>\n",
       "      <td>1</td>\n",
       "      <td>3</td>\n",
       "      <td>3</td>\n",
       "      <td>12</td>\n",
       "      <td>21.0</td>\n",
       "      <td>196</td>\n",
       "      <td>1</td>\n",
       "      <td>1</td>\n",
       "      <td>Soda</td>\n",
       "      <td>...</td>\n",
       "      <td>Non-frequent customer</td>\n",
       "      <td>Female</td>\n",
       "      <td>Alabama</td>\n",
       "      <td>31</td>\n",
       "      <td>2/17/2019</td>\n",
       "      <td>3</td>\n",
       "      <td>married</td>\n",
       "      <td>40423</td>\n",
       "      <td>South</td>\n",
       "      <td>married adult</td>\n",
       "    </tr>\n",
       "    <tr>\n",
       "      <th>6</th>\n",
       "      <td>3108588</td>\n",
       "      <td>1</td>\n",
       "      <td>8</td>\n",
       "      <td>1</td>\n",
       "      <td>14</td>\n",
       "      <td>14.0</td>\n",
       "      <td>196</td>\n",
       "      <td>2</td>\n",
       "      <td>1</td>\n",
       "      <td>Soda</td>\n",
       "      <td>...</td>\n",
       "      <td>Regular customer</td>\n",
       "      <td>Female</td>\n",
       "      <td>Alabama</td>\n",
       "      <td>31</td>\n",
       "      <td>2/17/2019</td>\n",
       "      <td>3</td>\n",
       "      <td>married</td>\n",
       "      <td>40423</td>\n",
       "      <td>South</td>\n",
       "      <td>married adult</td>\n",
       "    </tr>\n",
       "    <tr>\n",
       "      <th>7</th>\n",
       "      <td>2295261</td>\n",
       "      <td>1</td>\n",
       "      <td>9</td>\n",
       "      <td>1</td>\n",
       "      <td>16</td>\n",
       "      <td>0.0</td>\n",
       "      <td>196</td>\n",
       "      <td>4</td>\n",
       "      <td>1</td>\n",
       "      <td>Soda</td>\n",
       "      <td>...</td>\n",
       "      <td>Frequent customer</td>\n",
       "      <td>Female</td>\n",
       "      <td>Alabama</td>\n",
       "      <td>31</td>\n",
       "      <td>2/17/2019</td>\n",
       "      <td>3</td>\n",
       "      <td>married</td>\n",
       "      <td>40423</td>\n",
       "      <td>South</td>\n",
       "      <td>married adult</td>\n",
       "    </tr>\n",
       "    <tr>\n",
       "      <th>47</th>\n",
       "      <td>2295261</td>\n",
       "      <td>1</td>\n",
       "      <td>9</td>\n",
       "      <td>1</td>\n",
       "      <td>16</td>\n",
       "      <td>0.0</td>\n",
       "      <td>46149</td>\n",
       "      <td>2</td>\n",
       "      <td>1</td>\n",
       "      <td>Zero Calorie Cola</td>\n",
       "      <td>...</td>\n",
       "      <td>Frequent customer</td>\n",
       "      <td>Female</td>\n",
       "      <td>Alabama</td>\n",
       "      <td>31</td>\n",
       "      <td>2/17/2019</td>\n",
       "      <td>3</td>\n",
       "      <td>married</td>\n",
       "      <td>40423</td>\n",
       "      <td>South</td>\n",
       "      <td>married adult</td>\n",
       "    </tr>\n",
       "    <tr>\n",
       "      <th>55</th>\n",
       "      <td>1261384</td>\n",
       "      <td>52</td>\n",
       "      <td>3</td>\n",
       "      <td>1</td>\n",
       "      <td>10</td>\n",
       "      <td>7.0</td>\n",
       "      <td>196</td>\n",
       "      <td>3</td>\n",
       "      <td>1</td>\n",
       "      <td>Soda</td>\n",
       "      <td>...</td>\n",
       "      <td>Frequent customer</td>\n",
       "      <td>Female</td>\n",
       "      <td>Alabama</td>\n",
       "      <td>64</td>\n",
       "      <td>1/30/2018</td>\n",
       "      <td>2</td>\n",
       "      <td>married</td>\n",
       "      <td>40974</td>\n",
       "      <td>South</td>\n",
       "      <td>senior</td>\n",
       "    </tr>\n",
       "  </tbody>\n",
       "</table>\n",
       "<p>5 rows × 32 columns</p>\n",
       "</div>"
      ],
      "text/plain": [
       "    order_id  user_id  order_number  orders_day_of_the_week  \\\n",
       "1     473747        1             3                       3   \n",
       "6    3108588        1             8                       1   \n",
       "7    2295261        1             9                       1   \n",
       "47   2295261        1             9                       1   \n",
       "55   1261384       52             3                       1   \n",
       "\n",
       "    order_hour_of_day  days_since_prior_order  product_id  add_to_cart_order  \\\n",
       "1                  12                    21.0         196                  1   \n",
       "6                  14                    14.0         196                  2   \n",
       "7                  16                     0.0         196                  4   \n",
       "47                 16                     0.0       46149                  2   \n",
       "55                 10                     7.0         196                  3   \n",
       "\n",
       "    reordered       product_name  ...         frequency_flag  gender    state  \\\n",
       "1           1               Soda  ...  Non-frequent customer  Female  Alabama   \n",
       "6           1               Soda  ...       Regular customer  Female  Alabama   \n",
       "7           1               Soda  ...      Frequent customer  Female  Alabama   \n",
       "47          1  Zero Calorie Cola  ...      Frequent customer  Female  Alabama   \n",
       "55          1               Soda  ...      Frequent customer  Female  Alabama   \n",
       "\n",
       "   age date_joined number_of_dependants family_status  income region  \\\n",
       "1   31   2/17/2019                    3       married   40423  South   \n",
       "6   31   2/17/2019                    3       married   40423  South   \n",
       "7   31   2/17/2019                    3       married   40423  South   \n",
       "47  31   2/17/2019                    3       married   40423  South   \n",
       "55  64   1/30/2018                    2       married   40974  South   \n",
       "\n",
       "    customer_profile  \n",
       "1      married adult  \n",
       "6      married adult  \n",
       "7      married adult  \n",
       "47     married adult  \n",
       "55            senior  \n",
       "\n",
       "[5 rows x 32 columns]"
      ]
     },
     "execution_count": 47,
     "metadata": {},
     "output_type": "execute_result"
    }
   ],
   "source": [
    "# Review the small (30%) dataframe\n",
    "\n",
    "df_small.head()"
   ]
  },
  {
   "cell_type": "code",
   "execution_count": 48,
   "metadata": {},
   "outputs": [
    {
     "data": {
      "text/plain": [
       "2415889"
      ]
     },
     "execution_count": 48,
     "metadata": {},
     "output_type": "execute_result"
    }
   ],
   "source": [
    "# Check that the two (big + small) samples add up to \"df_customer_profile_included\" dataframe\n",
    "\n",
    "len(df_big) + len(df_small)"
   ]
  },
  {
   "cell_type": "markdown",
   "metadata": {},
   "source": [
    "#### 9. Exercise Q5c. Bar chart: hour of the day / day of the week impact on profiles (sample)"
   ]
  },
  {
   "cell_type": "code",
   "execution_count": 49,
   "metadata": {},
   "outputs": [
    {
     "data": {
      "text/html": [
       "<div>\n",
       "<style scoped>\n",
       "    .dataframe tbody tr th:only-of-type {\n",
       "        vertical-align: middle;\n",
       "    }\n",
       "\n",
       "    .dataframe tbody tr th {\n",
       "        vertical-align: top;\n",
       "    }\n",
       "\n",
       "    .dataframe thead th {\n",
       "        text-align: right;\n",
       "    }\n",
       "</style>\n",
       "<table border=\"1\" class=\"dataframe\">\n",
       "  <thead>\n",
       "    <tr style=\"text-align: right;\">\n",
       "      <th></th>\n",
       "      <th>customer_profile</th>\n",
       "      <th>order_hour_of_day</th>\n",
       "      <th>orders_day_of_the_week</th>\n",
       "    </tr>\n",
       "  </thead>\n",
       "  <tbody>\n",
       "    <tr>\n",
       "      <th>1</th>\n",
       "      <td>married adult</td>\n",
       "      <td>12</td>\n",
       "      <td>3</td>\n",
       "    </tr>\n",
       "    <tr>\n",
       "      <th>6</th>\n",
       "      <td>married adult</td>\n",
       "      <td>14</td>\n",
       "      <td>1</td>\n",
       "    </tr>\n",
       "    <tr>\n",
       "      <th>7</th>\n",
       "      <td>married adult</td>\n",
       "      <td>16</td>\n",
       "      <td>1</td>\n",
       "    </tr>\n",
       "    <tr>\n",
       "      <th>47</th>\n",
       "      <td>married adult</td>\n",
       "      <td>16</td>\n",
       "      <td>1</td>\n",
       "    </tr>\n",
       "    <tr>\n",
       "      <th>55</th>\n",
       "      <td>senior</td>\n",
       "      <td>10</td>\n",
       "      <td>1</td>\n",
       "    </tr>\n",
       "  </tbody>\n",
       "</table>\n",
       "</div>"
      ],
      "text/plain": [
       "   customer_profile  order_hour_of_day  orders_day_of_the_week\n",
       "1     married adult                 12                       3\n",
       "6     married adult                 14                       1\n",
       "7     married adult                 16                       1\n",
       "47    married adult                 16                       1\n",
       "55           senior                 10                       1"
      ]
     },
     "execution_count": 49,
     "metadata": {},
     "output_type": "execute_result"
    }
   ],
   "source": [
    "# The \"orders_day_of_the_week\" and \"order_hour_of_day\" columns impact on customer profiles\n",
    "\n",
    "df_small[['customer_profile', 'order_hour_of_day', 'orders_day_of_the_week']].head()"
   ]
  },
  {
   "cell_type": "code",
   "execution_count": 50,
   "metadata": {},
   "outputs": [
    {
     "data": {
      "text/html": [
       "<div>\n",
       "<style scoped>\n",
       "    .dataframe tbody tr th:only-of-type {\n",
       "        vertical-align: middle;\n",
       "    }\n",
       "\n",
       "    .dataframe tbody tr th {\n",
       "        vertical-align: top;\n",
       "    }\n",
       "\n",
       "    .dataframe thead th {\n",
       "        text-align: right;\n",
       "    }\n",
       "</style>\n",
       "<table border=\"1\" class=\"dataframe\">\n",
       "  <thead>\n",
       "    <tr style=\"text-align: right;\">\n",
       "      <th>order_hour_of_day</th>\n",
       "      <th>0</th>\n",
       "      <th>1</th>\n",
       "      <th>2</th>\n",
       "      <th>3</th>\n",
       "      <th>4</th>\n",
       "      <th>5</th>\n",
       "      <th>6</th>\n",
       "      <th>7</th>\n",
       "      <th>8</th>\n",
       "      <th>9</th>\n",
       "      <th>...</th>\n",
       "      <th>14</th>\n",
       "      <th>15</th>\n",
       "      <th>16</th>\n",
       "      <th>17</th>\n",
       "      <th>18</th>\n",
       "      <th>19</th>\n",
       "      <th>20</th>\n",
       "      <th>21</th>\n",
       "      <th>22</th>\n",
       "      <th>23</th>\n",
       "    </tr>\n",
       "    <tr>\n",
       "      <th>customer_profile</th>\n",
       "      <th></th>\n",
       "      <th></th>\n",
       "      <th></th>\n",
       "      <th></th>\n",
       "      <th></th>\n",
       "      <th></th>\n",
       "      <th></th>\n",
       "      <th></th>\n",
       "      <th></th>\n",
       "      <th></th>\n",
       "      <th></th>\n",
       "      <th></th>\n",
       "      <th></th>\n",
       "      <th></th>\n",
       "      <th></th>\n",
       "      <th></th>\n",
       "      <th></th>\n",
       "      <th></th>\n",
       "      <th></th>\n",
       "      <th></th>\n",
       "      <th></th>\n",
       "    </tr>\n",
       "  </thead>\n",
       "  <tbody>\n",
       "    <tr>\n",
       "      <th>married adult</th>\n",
       "      <td>2188</td>\n",
       "      <td>1231</td>\n",
       "      <td>724</td>\n",
       "      <td>558</td>\n",
       "      <td>527</td>\n",
       "      <td>870</td>\n",
       "      <td>2794</td>\n",
       "      <td>8429</td>\n",
       "      <td>16952</td>\n",
       "      <td>26113</td>\n",
       "      <td>...</td>\n",
       "      <td>26655</td>\n",
       "      <td>25814</td>\n",
       "      <td>24715</td>\n",
       "      <td>20821</td>\n",
       "      <td>16338</td>\n",
       "      <td>12456</td>\n",
       "      <td>9102</td>\n",
       "      <td>6952</td>\n",
       "      <td>5375</td>\n",
       "      <td>3681</td>\n",
       "    </tr>\n",
       "    <tr>\n",
       "      <th>senior</th>\n",
       "      <td>1566</td>\n",
       "      <td>923</td>\n",
       "      <td>570</td>\n",
       "      <td>449</td>\n",
       "      <td>458</td>\n",
       "      <td>719</td>\n",
       "      <td>2139</td>\n",
       "      <td>6747</td>\n",
       "      <td>13327</td>\n",
       "      <td>20440</td>\n",
       "      <td>...</td>\n",
       "      <td>20742</td>\n",
       "      <td>20466</td>\n",
       "      <td>19784</td>\n",
       "      <td>16412</td>\n",
       "      <td>13016</td>\n",
       "      <td>10115</td>\n",
       "      <td>7090</td>\n",
       "      <td>5264</td>\n",
       "      <td>3988</td>\n",
       "      <td>2756</td>\n",
       "    </tr>\n",
       "    <tr>\n",
       "      <th>single adult</th>\n",
       "      <td>1069</td>\n",
       "      <td>544</td>\n",
       "      <td>356</td>\n",
       "      <td>261</td>\n",
       "      <td>270</td>\n",
       "      <td>410</td>\n",
       "      <td>1462</td>\n",
       "      <td>3894</td>\n",
       "      <td>7903</td>\n",
       "      <td>12344</td>\n",
       "      <td>...</td>\n",
       "      <td>12536</td>\n",
       "      <td>12355</td>\n",
       "      <td>12040</td>\n",
       "      <td>9837</td>\n",
       "      <td>7615</td>\n",
       "      <td>5839</td>\n",
       "      <td>4277</td>\n",
       "      <td>3170</td>\n",
       "      <td>2444</td>\n",
       "      <td>1706</td>\n",
       "    </tr>\n",
       "  </tbody>\n",
       "</table>\n",
       "<p>3 rows × 24 columns</p>\n",
       "</div>"
      ],
      "text/plain": [
       "order_hour_of_day    0     1    2    3    4    5     6     7      8      9   \\\n",
       "customer_profile                                                              \n",
       "married adult      2188  1231  724  558  527  870  2794  8429  16952  26113   \n",
       "senior             1566   923  570  449  458  719  2139  6747  13327  20440   \n",
       "single adult       1069   544  356  261  270  410  1462  3894   7903  12344   \n",
       "\n",
       "order_hour_of_day  ...     14     15     16     17     18     19    20    21  \\\n",
       "customer_profile   ...                                                         \n",
       "married adult      ...  26655  25814  24715  20821  16338  12456  9102  6952   \n",
       "senior             ...  20742  20466  19784  16412  13016  10115  7090  5264   \n",
       "single adult       ...  12536  12355  12040   9837   7615   5839  4277  3170   \n",
       "\n",
       "order_hour_of_day    22    23  \n",
       "customer_profile               \n",
       "married adult      5375  3681  \n",
       "senior             3988  2756  \n",
       "single adult       2444  1706  \n",
       "\n",
       "[3 rows x 24 columns]"
      ]
     },
     "execution_count": 50,
     "metadata": {},
     "output_type": "execute_result"
    }
   ],
   "source": [
    "# Crosstab the \"customer_profile\" variable with the \"order_hour_of_day\"\n",
    "\n",
    "pd.crosstab(df_small['customer_profile'], df_small['order_hour_of_day'], dropna = False)"
   ]
  },
  {
   "cell_type": "code",
   "execution_count": 51,
   "metadata": {},
   "outputs": [
    {
     "data": {
      "text/html": [
       "<div>\n",
       "<style scoped>\n",
       "    .dataframe tbody tr th:only-of-type {\n",
       "        vertical-align: middle;\n",
       "    }\n",
       "\n",
       "    .dataframe tbody tr th {\n",
       "        vertical-align: top;\n",
       "    }\n",
       "\n",
       "    .dataframe thead th {\n",
       "        text-align: right;\n",
       "    }\n",
       "</style>\n",
       "<table border=\"1\" class=\"dataframe\">\n",
       "  <thead>\n",
       "    <tr style=\"text-align: right;\">\n",
       "      <th>orders_day_of_the_week</th>\n",
       "      <th>0</th>\n",
       "      <th>1</th>\n",
       "      <th>2</th>\n",
       "      <th>3</th>\n",
       "      <th>4</th>\n",
       "      <th>5</th>\n",
       "      <th>6</th>\n",
       "    </tr>\n",
       "    <tr>\n",
       "      <th>customer_profile</th>\n",
       "      <th></th>\n",
       "      <th></th>\n",
       "      <th></th>\n",
       "      <th></th>\n",
       "      <th></th>\n",
       "      <th></th>\n",
       "      <th></th>\n",
       "    </tr>\n",
       "  </thead>\n",
       "  <tbody>\n",
       "    <tr>\n",
       "      <th>married adult</th>\n",
       "      <td>52214</td>\n",
       "      <td>57784</td>\n",
       "      <td>44455</td>\n",
       "      <td>40811</td>\n",
       "      <td>40702</td>\n",
       "      <td>44554</td>\n",
       "      <td>41269</td>\n",
       "    </tr>\n",
       "    <tr>\n",
       "      <th>senior</th>\n",
       "      <td>41074</td>\n",
       "      <td>44093</td>\n",
       "      <td>34115</td>\n",
       "      <td>32670</td>\n",
       "      <td>31769</td>\n",
       "      <td>35791</td>\n",
       "      <td>32026</td>\n",
       "    </tr>\n",
       "    <tr>\n",
       "      <th>single adult</th>\n",
       "      <td>24613</td>\n",
       "      <td>27549</td>\n",
       "      <td>20635</td>\n",
       "      <td>19136</td>\n",
       "      <td>19291</td>\n",
       "      <td>21274</td>\n",
       "      <td>19339</td>\n",
       "    </tr>\n",
       "  </tbody>\n",
       "</table>\n",
       "</div>"
      ],
      "text/plain": [
       "orders_day_of_the_week      0      1      2      3      4      5      6\n",
       "customer_profile                                                       \n",
       "married adult           52214  57784  44455  40811  40702  44554  41269\n",
       "senior                  41074  44093  34115  32670  31769  35791  32026\n",
       "single adult            24613  27549  20635  19136  19291  21274  19339"
      ]
     },
     "execution_count": 51,
     "metadata": {},
     "output_type": "execute_result"
    }
   ],
   "source": [
    "# Crosstab the \"customer_profile\" variable with the \"order_hour_of_day\"\n",
    "\n",
    "pd.crosstab(df_small['customer_profile'], df_small['orders_day_of_the_week'], dropna = False)"
   ]
  },
  {
   "cell_type": "code",
   "execution_count": 52,
   "metadata": {},
   "outputs": [],
   "source": [
    "# Subset containing the \"married adult\" customer profile\n",
    "\n",
    "df_married_adult =  df_small[df_small['customer_profile'] == 'married adult']"
   ]
  },
  {
   "cell_type": "code",
   "execution_count": 53,
   "metadata": {},
   "outputs": [
    {
     "data": {
      "image/png": "[encoded data removed]",
      "text/plain": [
       "<Figure size 432x288 with 1 Axes>"
      ]
     },
     "metadata": {
      "needs_background": "light"
     },
     "output_type": "display_data"
    }
   ],
   "source": [
    "# Bar chart of the \"df_married_adult\" dataframe and \"order_hour_of_day\" column\n",
    "\n",
    "bar_chart1_married_adult = df_married_adult['order_hour_of_day'].value_counts().plot.bar(color=(0.7, 0.7, 0.3),  edgecolor='green', width=0.8)"
   ]
  },
  {
   "cell_type": "code",
   "execution_count": 54,
   "metadata": {},
   "outputs": [
    {
     "data": {
      "image/png": "[encoded data removed]",
      "text/plain": [
       "<Figure size 432x288 with 1 Axes>"
      ]
     },
     "metadata": {
      "needs_background": "light"
     },
     "output_type": "display_data"
    }
   ],
   "source": [
    "# Bar chart of the \"df_married_adult\" dataframe and \"orders_day_of_the_week\" column\n",
    "\n",
    "bar_chart2_married_adult = df_married_adult['orders_day_of_the_week'].value_counts().plot.bar(color=(0.7, 0.7, 0.3), edgecolor='green', width=0.8)\n"
   ]
  },
  {
   "cell_type": "code",
   "execution_count": 55,
   "metadata": {},
   "outputs": [],
   "source": [
    "# Subset containing the \"single adult\" customer profile\n",
    "\n",
    "df_single_adult =  df_small[df_small['customer_profile'] == 'single adult']"
   ]
  },
  {
   "cell_type": "code",
   "execution_count": 56,
   "metadata": {},
   "outputs": [
    {
     "data": {
      "image/png": "[encoded data removed]",
      "text/plain": [
       "<Figure size 432x288 with 1 Axes>"
      ]
     },
     "metadata": {
      "needs_background": "light"
     },
     "output_type": "display_data"
    }
   ],
   "source": [
    "# Bar chart of the \"df_single_adult\" dataframe and \"order_hour_of_day\" column\n",
    "\n",
    "bar_chart5_single_adult = df_single_adult['order_hour_of_day'].value_counts().plot.bar(color=(0.7, 0.7, 0.3),  edgecolor='green', width=0.8)"
   ]
  },
  {
   "cell_type": "code",
   "execution_count": 57,
   "metadata": {},
   "outputs": [
    {
     "data": {
      "image/png": "[encoded data removed]",
      "text/plain": [
       "<Figure size 432x288 with 1 Axes>"
      ]
     },
     "metadata": {
      "needs_background": "light"
     },
     "output_type": "display_data"
    }
   ],
   "source": [
    "# Bar chart of the \"df_single_adult\" dataframe and \"orders_day_of_the_week\" column\n",
    "\n",
    "bar_chart6_single_adult = df_single_adult['orders_day_of_the_week'].value_counts().plot.bar(color=(0.7, 0.7, 0.3), edgecolor='green', width=0.8)\n"
   ]
  },
  {
   "cell_type": "code",
   "execution_count": 58,
   "metadata": {},
   "outputs": [],
   "source": [
    "# Subset containing the \"senior\" customer profile\n",
    "\n",
    "df_senior =  df_small[df_small['customer_profile'] == 'senior']"
   ]
  },
  {
   "cell_type": "code",
   "execution_count": 59,
   "metadata": {},
   "outputs": [
    {
     "data": {
      "image/png": "[encoded data removed]",
      "text/plain": [
       "<Figure size 432x288 with 1 Axes>"
      ]
     },
     "metadata": {
      "needs_background": "light"
     },
     "output_type": "display_data"
    }
   ],
   "source": [
    "# Bar chart of the \"df_senior\" dataframe and \"order_hour_of_day\" column\n",
    "\n",
    "bar_chart9_senior = df_senior['order_hour_of_day'].value_counts().plot.bar(color=(0.7, 0.7, 0.3),  edgecolor='green', width=0.8)"
   ]
  },
  {
   "cell_type": "code",
   "execution_count": 60,
   "metadata": {},
   "outputs": [
    {
     "data": {
      "image/png": "[encoded data removed]",
      "text/plain": [
       "<Figure size 432x288 with 1 Axes>"
      ]
     },
     "metadata": {
      "needs_background": "light"
     },
     "output_type": "display_data"
    }
   ],
   "source": [
    "# Bar chart of the \"df_senior\" dataframe and \"orders_day_of_the_week\" column\n",
    "\n",
    "bar_chart10_senior = df_senior['orders_day_of_the_week'].value_counts().plot.bar(color=(0.7, 0.7, 0.3),  edgecolor='green', width=0.8)"
   ]
  },
  {
   "cell_type": "markdown",
   "metadata": {},
   "source": [
    "#### 10. Exercise Q6. Histogram: profile distribution"
   ]
  },
  {
   "cell_type": "code",
   "execution_count": 61,
   "metadata": {},
   "outputs": [
    {
     "data": {
      "image/png": "[encoded data removed]",
      "text/plain": [
       "<Figure size 432x288 with 1 Axes>"
      ]
     },
     "metadata": {
      "needs_background": "light"
     },
     "output_type": "display_data"
    }
   ],
   "source": [
    "# Histogram of the \"df_married_adult\" dataframe and \"order_hour_of_day\" column\n",
    "\n",
    "histogram1_married_adult = df_married_adult['order_hour_of_day'].plot.hist(bins = 24, edgecolor='white')"
   ]
  },
  {
   "cell_type": "code",
   "execution_count": 62,
   "metadata": {},
   "outputs": [
    {
     "data": {
      "image/png": "[encoded data removed]",
      "text/plain": [
       "<Figure size 432x288 with 1 Axes>"
      ]
     },
     "metadata": {
      "needs_background": "light"
     },
     "output_type": "display_data"
    }
   ],
   "source": [
    "# Histogram of the \"df_married_adult\" dataframe and \"orders_day_of_the_week\" column\n",
    "\n",
    "histogram2_married_adult = df_married_adult['orders_day_of_the_week'].plot.hist(bins = 7, edgecolor='white')"
   ]
  },
  {
   "cell_type": "code",
   "execution_count": 63,
   "metadata": {},
   "outputs": [
    {
     "data": {
      "image/png": "[encoded data removed]",
      "text/plain": [
       "<Figure size 432x288 with 1 Axes>"
      ]
     },
     "metadata": {
      "needs_background": "light"
     },
     "output_type": "display_data"
    }
   ],
   "source": [
    "# Histogram of the \"df_single_adult\" dataframe and \"order_hour_of_day\" column\n",
    "\n",
    "histogram3_single_adult = df_single_adult['order_hour_of_day'].plot.hist(bins = 24, edgecolor='white')"
   ]
  },
  {
   "cell_type": "code",
   "execution_count": 64,
   "metadata": {},
   "outputs": [
    {
     "data": {
      "image/png": "[encoded data removed]",
      "text/plain": [
       "<Figure size 432x288 with 1 Axes>"
      ]
     },
     "metadata": {
      "needs_background": "light"
     },
     "output_type": "display_data"
    }
   ],
   "source": [
    "# Histogram of the \"df_single_adult\" dataframe and \"orders_day_of_the_week\" column\n",
    "\n",
    "histogram4_single_adult = df_single_adult['orders_day_of_the_week'].plot.hist(bins = 7, edgecolor='white')"
   ]
  },
  {
   "cell_type": "code",
   "execution_count": 65,
   "metadata": {},
   "outputs": [
    {
     "data": {
      "image/png": "[encoded data removed]",
      "text/plain": [
       "<Figure size 432x288 with 1 Axes>"
      ]
     },
     "metadata": {
      "needs_background": "light"
     },
     "output_type": "display_data"
    }
   ],
   "source": [
    "# Histogram of the \"df_senior\" dataframe and \"order_hour_of_day\" column\n",
    "\n",
    "histogram5_senior = df_senior['order_hour_of_day'].plot.hist(bins = 24, edgecolor='white')"
   ]
  },
  {
   "cell_type": "code",
   "execution_count": 75,
   "metadata": {},
   "outputs": [
    {
     "data": {
      "image/png": "[encoded data removed]",
      "text/plain": [
       "<Figure size 432x288 with 1 Axes>"
      ]
     },
     "metadata": {
      "needs_background": "light"
     },
     "output_type": "display_data"
    }
   ],
   "source": [
    "# Histogram of the \"df_senior\" dataframe and \"orders_day_of_the_week\" column\n",
    "\n",
    "histogram6_senior = df_senior['orders_day_of_the_week'].plot.hist(bins = 7, edgecolor='white')"
   ]
  },
  {
   "cell_type": "markdown",
   "metadata": {},
   "source": [
    "#### 11. Exercise Q7. Aggregate the max, mean, and min on a customer-profile (frequency & expenditure)"
   ]
  },
  {
   "cell_type": "code",
   "execution_count": 76,
   "metadata": {},
   "outputs": [
    {
     "data": {
      "text/html": [
       "<div>\n",
       "<style scoped>\n",
       "    .dataframe tbody tr th:only-of-type {\n",
       "        vertical-align: middle;\n",
       "    }\n",
       "\n",
       "    .dataframe tbody tr th {\n",
       "        vertical-align: top;\n",
       "    }\n",
       "\n",
       "    .dataframe thead tr th {\n",
       "        text-align: left;\n",
       "    }\n",
       "\n",
       "    .dataframe thead tr:last-of-type th {\n",
       "        text-align: right;\n",
       "    }\n",
       "</style>\n",
       "<table border=\"1\" class=\"dataframe\">\n",
       "  <thead>\n",
       "    <tr>\n",
       "      <th></th>\n",
       "      <th colspan=\"3\" halign=\"left\">prices</th>\n",
       "    </tr>\n",
       "    <tr>\n",
       "      <th></th>\n",
       "      <th>mean</th>\n",
       "      <th>min</th>\n",
       "      <th>max</th>\n",
       "    </tr>\n",
       "    <tr>\n",
       "      <th>customer_profile</th>\n",
       "      <th></th>\n",
       "      <th></th>\n",
       "      <th></th>\n",
       "    </tr>\n",
       "  </thead>\n",
       "  <tbody>\n",
       "    <tr>\n",
       "      <th>married adult</th>\n",
       "      <td>7.767639</td>\n",
       "      <td>1.0</td>\n",
       "      <td>15.0</td>\n",
       "    </tr>\n",
       "    <tr>\n",
       "      <th>senior</th>\n",
       "      <td>7.776717</td>\n",
       "      <td>1.0</td>\n",
       "      <td>15.0</td>\n",
       "    </tr>\n",
       "    <tr>\n",
       "      <th>single adult</th>\n",
       "      <td>7.794932</td>\n",
       "      <td>1.0</td>\n",
       "      <td>15.0</td>\n",
       "    </tr>\n",
       "  </tbody>\n",
       "</table>\n",
       "</div>"
      ],
      "text/plain": [
       "                    prices           \n",
       "                      mean  min   max\n",
       "customer_profile                     \n",
       "married adult     7.767639  1.0  15.0\n",
       "senior            7.776717  1.0  15.0\n",
       "single adult      7.794932  1.0  15.0"
      ]
     },
     "execution_count": 76,
     "metadata": {},
     "output_type": "execute_result"
    }
   ],
   "source": [
    "# Max, mean, and min on customer profiles for usage expenditure\n",
    "\n",
    "df_small.groupby('customer_profile').agg({'prices': ['mean', 'min', 'max']})"
   ]
  },
  {
   "cell_type": "code",
   "execution_count": 77,
   "metadata": {},
   "outputs": [
    {
     "data": {
      "text/html": [
       "<div>\n",
       "<style scoped>\n",
       "    .dataframe tbody tr th:only-of-type {\n",
       "        vertical-align: middle;\n",
       "    }\n",
       "\n",
       "    .dataframe tbody tr th {\n",
       "        vertical-align: top;\n",
       "    }\n",
       "\n",
       "    .dataframe thead tr th {\n",
       "        text-align: left;\n",
       "    }\n",
       "\n",
       "    .dataframe thead tr:last-of-type th {\n",
       "        text-align: right;\n",
       "    }\n",
       "</style>\n",
       "<table border=\"1\" class=\"dataframe\">\n",
       "  <thead>\n",
       "    <tr>\n",
       "      <th></th>\n",
       "      <th colspan=\"3\" halign=\"left\">days_since_prior_order</th>\n",
       "    </tr>\n",
       "    <tr>\n",
       "      <th></th>\n",
       "      <th>mean</th>\n",
       "      <th>min</th>\n",
       "      <th>max</th>\n",
       "    </tr>\n",
       "    <tr>\n",
       "      <th>customer_profile</th>\n",
       "      <th></th>\n",
       "      <th></th>\n",
       "      <th></th>\n",
       "    </tr>\n",
       "  </thead>\n",
       "  <tbody>\n",
       "    <tr>\n",
       "      <th>married adult</th>\n",
       "      <td>10.766794</td>\n",
       "      <td>0.0</td>\n",
       "      <td>30.0</td>\n",
       "    </tr>\n",
       "    <tr>\n",
       "      <th>senior</th>\n",
       "      <td>10.693335</td>\n",
       "      <td>0.0</td>\n",
       "      <td>30.0</td>\n",
       "    </tr>\n",
       "    <tr>\n",
       "      <th>single adult</th>\n",
       "      <td>10.673920</td>\n",
       "      <td>0.0</td>\n",
       "      <td>30.0</td>\n",
       "    </tr>\n",
       "  </tbody>\n",
       "</table>\n",
       "</div>"
      ],
      "text/plain": [
       "                 days_since_prior_order           \n",
       "                                   mean  min   max\n",
       "customer_profile                                  \n",
       "married adult                 10.766794  0.0  30.0\n",
       "senior                        10.693335  0.0  30.0\n",
       "single adult                  10.673920  0.0  30.0"
      ]
     },
     "execution_count": 77,
     "metadata": {},
     "output_type": "execute_result"
    }
   ],
   "source": [
    "# Max, mean, and min on customer profiles for usage frequency\n",
    "\n",
    "df_small.groupby('customer_profile').agg({'days_since_prior_order': ['mean', 'min', 'max']})"
   ]
  },
  {
   "cell_type": "markdown",
   "metadata": {},
   "source": [
    "#### 12. Exercise Q8. Compare customer profiles with regions and departments"
   ]
  },
  {
   "cell_type": "code",
   "execution_count": 78,
   "metadata": {},
   "outputs": [
    {
     "data": {
      "image/png": "[encoded data removed]",
      "text/plain": [
       "<Figure size 432x288 with 1 Axes>"
      ]
     },
     "metadata": {
      "needs_background": "light"
     },
     "output_type": "display_data"
    }
   ],
   "source": [
    "# Compare \"married_adult\" customer profile with region\n",
    "\n",
    "bar_chart3_married_adult = df_married_adult['region'].value_counts().plot.bar()"
   ]
  },
  {
   "cell_type": "code",
   "execution_count": 79,
   "metadata": {},
   "outputs": [
    {
     "data": {
      "image/png": "[encoded data removed]",
      "text/plain": [
       "<Figure size 432x288 with 1 Axes>"
      ]
     },
     "metadata": {
      "needs_background": "light"
     },
     "output_type": "display_data"
    }
   ],
   "source": [
    "# Compare \"senior\" customer profile with region\n",
    "\n",
    "bar_chart11_senior = df_senior['region'].value_counts().plot.bar()"
   ]
  },
  {
   "cell_type": "code",
   "execution_count": 80,
   "metadata": {},
   "outputs": [
    {
     "data": {
      "image/png": "[encoded data removed]",
      "text/plain": [
       "<Figure size 432x288 with 1 Axes>"
      ]
     },
     "metadata": {
      "needs_background": "light"
     },
     "output_type": "display_data"
    }
   ],
   "source": [
    "# Compare \"single_adult\" customer profile with region\n",
    "\n",
    "bar_chart7_single_adult = df_single_adult['region'].value_counts().plot.bar()"
   ]
  },
  {
   "cell_type": "code",
   "execution_count": 81,
   "metadata": {},
   "outputs": [
    {
     "data": {
      "image/png": "[encoded data removed]",
      "text/plain": [
       "<Figure size 432x288 with 1 Axes>"
      ]
     },
     "metadata": {
      "needs_background": "light"
     },
     "output_type": "display_data"
    }
   ],
   "source": [
    "# Compare \"married_adult\" customer profile with departments\n",
    "\n",
    "bar_chart12_married_adult = df_married_adult['department_id'].value_counts().plot.bar()"
   ]
  },
  {
   "cell_type": "code",
   "execution_count": 82,
   "metadata": {},
   "outputs": [
    {
     "data": {
      "image/png": "[encoded data removed]",
      "text/plain": [
       "<Figure size 432x288 with 1 Axes>"
      ]
     },
     "metadata": {
      "needs_background": "light"
     },
     "output_type": "display_data"
    }
   ],
   "source": [
    "# Compare \"senior\" customer profile with departments\n",
    "\n",
    "bar_chart4_df_senior = df_senior['department_id'].value_counts().plot.bar()"
   ]
  },
  {
   "cell_type": "code",
   "execution_count": 83,
   "metadata": {},
   "outputs": [
    {
     "data": {
      "image/png": "[encoded data removed]",
      "text/plain": [
       "<Figure size 432x288 with 1 Axes>"
      ]
     },
     "metadata": {
      "needs_background": "light"
     },
     "output_type": "display_data"
    }
   ],
   "source": [
    "# Compare \"single_adult\" customer profile with departments\n",
    "\n",
    "bar_chart8_single_adult = df_single_adult['department_id'].value_counts().plot.bar()"
   ]
  },
  {
   "cell_type": "markdown",
   "metadata": {},
   "source": [
    "#### 13. Exercise Q9. Export visualizations in relevant project folder"
   ]
  },
  {
   "cell_type": "code",
   "execution_count": 76,
   "metadata": {},
   "outputs": [],
   "source": [
    "# Export the bar chart \"bar_chart1_married_adult\"\n",
    "\n",
    "bar_chart1_married_adult.figure.savefig(os.path.join(path, '04 Analysis','Visualizations', 'bar_chart1_married_adult.png'))"
   ]
  },
  {
   "cell_type": "code",
   "execution_count": 77,
   "metadata": {},
   "outputs": [],
   "source": [
    "# Export the bar chart \"bar_chart2_married_adult\"\n",
    "\n",
    "bar_chart2_married_adult.figure.savefig(os.path.join(path, '04 Analysis','Visualizations', 'bar_chart2_married_adult.png'))"
   ]
  },
  {
   "cell_type": "code",
   "execution_count": 78,
   "metadata": {},
   "outputs": [],
   "source": [
    "# Export the histogram \"histogram1_married_adult\"\n",
    "\n",
    "histogram1_married_adult.figure.savefig(os.path.join(path, '04 Analysis','Visualizations', 'histogram1_married_adult.png'))"
   ]
  },
  {
   "cell_type": "code",
   "execution_count": 79,
   "metadata": {},
   "outputs": [],
   "source": [
    "# Export the histogram \"histogram2_married_adult\"\n",
    "\n",
    "histogram2_married_adult.figure.savefig(os.path.join(path, '04 Analysis','Visualizations', 'histogram2_married_adult.png'))"
   ]
  },
  {
   "cell_type": "code",
   "execution_count": 80,
   "metadata": {},
   "outputs": [],
   "source": [
    "# Export the bar chart \"bar_chart3_married_adult\"\n",
    "\n",
    "bar_chart3_married_adult.figure.savefig(os.path.join(path, '04 Analysis','Visualizations', 'bar_chart3_married_adult.png'))"
   ]
  },
  {
   "cell_type": "code",
   "execution_count": 81,
   "metadata": {},
   "outputs": [],
   "source": [
    "# Export the bar chart \"bar_chart4_df_senior\"\n",
    "\n",
    "bar_chart4_df_senior.figure.savefig(os.path.join(path, '04 Analysis','Visualizations', 'bar_chart4_df_senior.png'))"
   ]
  },
  {
   "cell_type": "code",
   "execution_count": 82,
   "metadata": {},
   "outputs": [],
   "source": [
    "# Export the bar chart \"bar_chart5_single_adult\"\n",
    "\n",
    "bar_chart5_single_adult.figure.savefig(os.path.join(path, '04 Analysis','Visualizations', 'bar_chart5_single_adult.png'))"
   ]
  },
  {
   "cell_type": "code",
   "execution_count": 83,
   "metadata": {},
   "outputs": [],
   "source": [
    "# Export the bar chart \"bar_chart6_single_adult\"\n",
    "\n",
    "bar_chart6_single_adult.figure.savefig(os.path.join(path, '04 Analysis','Visualizations', 'bar_chart6_single_adult.png'))"
   ]
  },
  {
   "cell_type": "code",
   "execution_count": 84,
   "metadata": {},
   "outputs": [],
   "source": [
    "# Export the histogram \"histogram3_single_adult\"\n",
    "\n",
    "histogram3_single_adult.figure.savefig(os.path.join(path, '04 Analysis','Visualizations', 'histogram3_single_adult.png'))"
   ]
  },
  {
   "cell_type": "code",
   "execution_count": 85,
   "metadata": {},
   "outputs": [],
   "source": [
    "# Export the histogram \"histogram4_single_adult\"\n",
    "\n",
    "histogram4_single_adult.figure.savefig(os.path.join(path, '04 Analysis','Visualizations', 'histogram4_single_adult.png'))"
   ]
  },
  {
   "cell_type": "code",
   "execution_count": 86,
   "metadata": {},
   "outputs": [],
   "source": [
    "# Export the bar chart \"bar_chart7_single_adult\"\n",
    "\n",
    "bar_chart7_single_adult.figure.savefig(os.path.join(path, '04 Analysis','Visualizations', 'bar_chart7_single_adult.png'))"
   ]
  },
  {
   "cell_type": "code",
   "execution_count": 87,
   "metadata": {},
   "outputs": [],
   "source": [
    "# Export the bar chart \"bar_chart8_single_adult\"\n",
    "\n",
    "bar_chart8_single_adult.figure.savefig(os.path.join(path, '04 Analysis','Visualizations', 'bar_chart8_single_adult.png'))"
   ]
  },
  {
   "cell_type": "code",
   "execution_count": 88,
   "metadata": {},
   "outputs": [],
   "source": [
    "# Export the bar chart \"bar_chart9_senior\"\n",
    "\n",
    "bar_chart9_senior.figure.savefig(os.path.join(path, '04 Analysis','Visualizations', 'bar_chart9_senior.png'))"
   ]
  },
  {
   "cell_type": "code",
   "execution_count": 89,
   "metadata": {},
   "outputs": [],
   "source": [
    "# Export the bar chart \"bar_chart10_senior\"\n",
    "\n",
    "bar_chart10_senior.figure.savefig(os.path.join(path, '04 Analysis','Visualizations', 'bar_chart10_senior.png'))"
   ]
  },
  {
   "cell_type": "code",
   "execution_count": 90,
   "metadata": {},
   "outputs": [],
   "source": [
    "# Export the histogram \"histogram5_senior\"\n",
    "\n",
    "histogram5_senior.figure.savefig(os.path.join(path, '04 Analysis','Visualizations', 'histogram5_senior.png'))"
   ]
  },
  {
   "cell_type": "code",
   "execution_count": 91,
   "metadata": {},
   "outputs": [],
   "source": [
    "# Export the histogram \"histogram5_senior\"\n",
    "\n",
    "histogram6_senior.figure.savefig(os.path.join(path, '04 Analysis','Visualizations', 'histogram6_senior.png'))"
   ]
  },
  {
   "cell_type": "code",
   "execution_count": 92,
   "metadata": {},
   "outputs": [],
   "source": [
    "# Export the bar chart \"bar_chart11_senior\"\n",
    "\n",
    "bar_chart11_senior.figure.savefig(os.path.join(path, '04 Analysis','Visualizations', 'bar_chart11_senior.png'))"
   ]
  },
  {
   "cell_type": "code",
   "execution_count": 93,
   "metadata": {},
   "outputs": [],
   "source": [
    "# Export the bar chart \"bar_chart12_married_adult\"\n",
    "\n",
    "bar_chart12_married_adult.figure.savefig(os.path.join(path, '04 Analysis','Visualizations', 'bar_chart12_married_adult.png'))"
   ]
  }
 ],
 "metadata": {
  "kernelspec": {
   "display_name": "Python 3",
   "language": "python",
   "name": "python3"
  },
  "language_info": {
   "codemirror_mode": {
    "name": "ipython",
    "version": 3
   },
   "file_extension": ".py",
   "mimetype": "text/x-python",
   "name": "python",
   "nbconvert_exporter": "python",
   "pygments_lexer": "ipython3",
   "version": "3.8.5"
  }
 },
 "nbformat": 4,
 "nbformat_minor": 4
}
